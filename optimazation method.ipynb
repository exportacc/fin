{
 "cells": [
  {
   "cell_type": "code",
   "execution_count": 205,
   "metadata": {
    "ExecuteTime": {
     "end_time": "2019-10-13T16:15:47.371510Z",
     "start_time": "2019-10-13T16:15:45.988307Z"
    }
   },
   "outputs": [
    {
     "data": {
      "text/html": [
       "        <script type=\"text/javascript\">\n",
       "        window.PlotlyConfig = {MathJaxConfig: 'local'};\n",
       "        if (window.MathJax) {MathJax.Hub.Config({SVG: {font: \"STIX-Web\"}});}\n",
       "        if (typeof require !== 'undefined') {\n",
       "        require.undef(\"plotly\");\n",
       "        requirejs.config({\n",
       "            paths: {\n",
       "                'plotly': ['https://cdn.plot.ly/plotly-latest.min']\n",
       "            }\n",
       "        });\n",
       "        require(['plotly'], function(Plotly) {\n",
       "            window._Plotly = Plotly;\n",
       "        });\n",
       "        }\n",
       "        </script>\n",
       "        "
      ]
     },
     "metadata": {},
     "output_type": "display_data"
    },
    {
     "data": {
      "text/html": [
       "        <script type=\"text/javascript\">\n",
       "        window.PlotlyConfig = {MathJaxConfig: 'local'};\n",
       "        if (window.MathJax) {MathJax.Hub.Config({SVG: {font: \"STIX-Web\"}});}\n",
       "        if (typeof require !== 'undefined') {\n",
       "        require.undef(\"plotly\");\n",
       "        requirejs.config({\n",
       "            paths: {\n",
       "                'plotly': ['https://cdn.plot.ly/plotly-latest.min']\n",
       "            }\n",
       "        });\n",
       "        require(['plotly'], function(Plotly) {\n",
       "            window._Plotly = Plotly;\n",
       "        });\n",
       "        }\n",
       "        </script>\n",
       "        "
      ]
     },
     "metadata": {},
     "output_type": "display_data"
    }
   ],
   "source": [
    "from plotly.offline import init_notebook_mode , plot , iplot \n",
    "import pandas as pd\n",
    "import numpy as np\n",
    "import plotly.plotly as py\n",
    "import cufflinks as cf\n",
    "from datetime import datetime \n",
    "import math as m\n",
    "init_notebook_mode(connected=True)\n",
    "cf.go_offline()"
   ]
  },
  {
   "cell_type": "code",
   "execution_count": 206,
   "metadata": {
    "ExecuteTime": {
     "end_time": "2019-10-13T16:15:51.527220Z",
     "start_time": "2019-10-13T16:15:50.497268Z"
    }
   },
   "outputs": [],
   "source": [
    "df = pd.DataFrame({\n",
    "    'time to maturity' : [0.25, 0.5 , 1 , 1.5 , 2] , \n",
    "    'coupon' : [0,0,0,8,12] , \n",
    "    'bond price' : [97.5 , 94.9 , 90 , 96 , 101.6]\n",
    "}) # 資料來源 原文書\n",
    "'''\n",
    "設定 Default Info \n",
    "'''\n",
    "df['bond principal'] = 100\n",
    "df['zero rate %'] = np.zeros(df.shape[0])\n",
    "df['duration'] = np.zeros(df.shape[0])\n",
    "\n",
    "def duration(df , fre = 2 ):\n",
    "    if df['coupon'][i] == 0 :\n",
    "        return df['time to maturity'][i] \n",
    "    else: \n",
    "        coupon = df['coupon'][i] / fre\n",
    "        s = np.zeros(i)\n",
    "        v = np.zeros(i)\n",
    "        # 0 , 1 , 2 \n",
    "        for num in range(i):\n",
    "            num += 1 \n",
    "            # 搬公式罷了 ， 前 i-1 個  做 loop save 起來 \n",
    "            try :\n",
    "                # 不等於最後一個 ， -1 是因爲最後多出一個 ， 不包含 0 的 shape :\n",
    "                s[ (num-1) ] = ( df['time to maturity'][num] * coupon * m.exp(-df['zero rate %'][num]/100 * df['time to maturity'][num]) )\n",
    "                v[ (num-1) ] = ( coupon * m.exp(-df['zero rate %'][num]/100 * df['time to maturity'][num]) )\n",
    "            except : \n",
    "                print('duration not ok')\n",
    "        return np.sum(s) / np.sum(v)\n",
    "def zero_coupon(df , i):\n",
    "    # Coupon 是零的情況下 ， 公式 PV Exp^rt = FV ,\n",
    "    # where PV = bond price (now) , FV = 100  , r = zero rate % , t = time to maturity \n",
    "    try :\n",
    "        return -(1/df['time to maturity'][i]) * m.log( df['bond price'][i] / df['bond principal'][i] ) * 100\n",
    "    except Exception : \n",
    "        return float('nan')\n",
    "    \n",
    "def have_coupon(df , i=3 , fre = 2 ):\n",
    "    coupon = df['coupon'][i] / fre\n",
    "    s = np.zeros(i)\n",
    "    for num in range(i):\n",
    "        num += 1 \n",
    "        # 搬公式罷了 ， 前 i-1 個  做 loop save 起來 \n",
    "        try :\n",
    "            if num != (i): \n",
    "                # 不等於最後一個 ， -1 是因爲最後多出一個 ， 不包含 0 的 shape :\n",
    "                s[ (num-1) ] = ( coupon * m.exp(-df['zero rate %'][num]/100 * df['time to maturity'][num]) ) \n",
    "            elif num == i :\n",
    "                s[ (num-1) ] = sum(s)\n",
    "                return -m.log( ( df['bond price'][i] - s[ (num-1) ] ) / (coupon + df['bond principal'][i]) ) / (df['time to maturity'][i]) * 100  \n",
    "            else : \n",
    "                print(i)\n",
    "        except Exception : \n",
    "            return float('nan')\n",
    "for i in range(df.shape[0]):\n",
    "    df['duration'][i] = duration(df, fre=2)\n",
    "    if df['coupon'][i] == 0 :\n",
    "        df['zero rate %'][i] = zero_coupon(df , i)\n",
    "    elif df['coupon'][i] != 0 :\n",
    "        df['zero rate %'][i] = have_coupon(df , i)\n",
    "    else : \n",
    "        break \n",
    "        print('error')\n",
    "df['zero rate'] = df['zero rate %']/100"
   ]
  },
  {
   "cell_type": "code",
   "execution_count": 207,
   "metadata": {
    "ExecuteTime": {
     "end_time": "2019-10-13T16:15:53.682470Z",
     "start_time": "2019-10-13T16:15:53.605955Z"
    }
   },
   "outputs": [
    {
     "name": "stdout",
     "output_type": "stream",
     "text": [
      "   time to maturity  coupon  bond price  bond principal  zero rate %  \\\n",
      "0              0.25       0        97.5             100    10.127123   \n",
      "1              0.50       0        94.9             100    10.469296   \n",
      "2              1.00       0        90.0             100    10.536052   \n",
      "3              1.50       8        96.0             100    10.680926   \n",
      "4              2.00      12       101.6             100    10.808028   \n",
      "\n",
      "   duration  zero rate  \n",
      "0  0.250000   0.101271  \n",
      "1  0.500000   0.104693  \n",
      "2  1.000000   0.105361  \n",
      "3  1.008951   0.106809  \n",
      "4  1.257090   0.108080  \n"
     ]
    }
   ],
   "source": [
    "print(df.head())"
   ]
  },
  {
   "cell_type": "code",
   "execution_count": 208,
   "metadata": {
    "ExecuteTime": {
     "end_time": "2019-10-13T16:15:57.710785Z",
     "start_time": "2019-10-13T16:15:57.699836Z"
    }
   },
   "outputs": [],
   "source": [
    "def svensson_exp_tau(tau,t):  \n",
    "    return ( 1 - np.exp( -(t / tau) ) ) / ( t / tau)\n",
    "\n",
    "def svensson_model(b0,b1,b2,b3,tau1,tau2,t):\n",
    "    svensson = b0 +\\\n",
    "    b1 * svensson_exp_tau(tau1,t) +\\\n",
    "    b2 *( svensson_exp_tau(tau1,t) - np.exp( -(t/tau1) ) ) +\\\n",
    "    b3 *( svensson_exp_tau(tau2,t) - np.exp(-(t/tau2)) )\n",
    "    return svensson"
   ]
  },
  {
   "cell_type": "code",
   "execution_count": 209,
   "metadata": {
    "ExecuteTime": {
     "end_time": "2019-10-13T16:16:08.015443Z",
     "start_time": "2019-10-13T16:16:02.387376Z"
    }
   },
   "outputs": [
    {
     "data": {
      "application/vnd.plotly.v1+json": {
       "config": {
        "linkText": "Export to plot.ly",
        "plotlyServerURL": "https://plot.ly",
        "showLink": true
       },
       "data": [
        {
         "line": {
          "color": "rgba(255, 153, 51, 1.0)",
          "dash": "solid",
          "shape": "linear",
          "width": 1.3
         },
         "marker": {
          "size": 12,
          "symbol": "circle"
         },
         "mode": "markers+lines",
         "name": "y",
         "text": "",
         "type": "scatter",
         "uid": "9bc9d34f-a876-48d2-b16e-020a69db4561",
         "x": [
          0.25,
          0.5,
          0.75,
          1,
          1.25,
          1.5,
          1.75,
          2
         ],
         "y": [
          0.010024473439381228,
          0.010092070476426438,
          0.010194987656761575,
          0.010326532985631671,
          0.010480979997797592,
          0.01065344026717054,
          0.010839752075150992,
          0.01103638323514327
         ]
        }
       ],
       "layout": {
        "legend": {
         "bgcolor": "#F5F6F9",
         "font": {
          "color": "#4D5663"
         }
        },
        "paper_bgcolor": "#F5F6F9",
        "plot_bgcolor": "#F5F6F9",
        "title": {
         "font": {
          "color": "#4D5663"
         },
         "text": "Svensson model"
        },
        "xaxis": {
         "gridcolor": "#E1E5ED",
         "showgrid": true,
         "tickfont": {
          "color": "#4D5663"
         },
         "title": {
          "font": {
           "color": "#4D5663"
          },
          "text": "time to maturity"
         },
         "zerolinecolor": "#E1E5ED"
        },
        "yaxis": {
         "gridcolor": "#E1E5ED",
         "showgrid": true,
         "tickfont": {
          "color": "#4D5663"
         },
         "title": {
          "font": {
           "color": "#4D5663"
          },
          "text": "Zero rate %"
         },
         "zerolinecolor": "#E1E5ED"
        }
       }
      },
      "text/html": [
       "<div>\n",
       "        \n",
       "        \n",
       "            <div id=\"d8e9b0c4-757e-4774-a050-93441bdb7080\" class=\"plotly-graph-div\" style=\"height:525px; width:100%;\"></div>\n",
       "            <script type=\"text/javascript\">\n",
       "                require([\"plotly\"], function(Plotly) {\n",
       "                    window.PLOTLYENV=window.PLOTLYENV || {};\n",
       "                    window.PLOTLYENV.BASE_URL='https://plot.ly';\n",
       "                    \n",
       "                if (document.getElementById(\"d8e9b0c4-757e-4774-a050-93441bdb7080\")) {\n",
       "                    Plotly.newPlot(\n",
       "                        'd8e9b0c4-757e-4774-a050-93441bdb7080',\n",
       "                        [{\"line\": {\"color\": \"rgba(255, 153, 51, 1.0)\", \"dash\": \"solid\", \"shape\": \"linear\", \"width\": 1.3}, \"marker\": {\"size\": 12, \"symbol\": \"circle\"}, \"mode\": \"markers+lines\", \"name\": \"y\", \"text\": \"\", \"type\": \"scatter\", \"uid\": \"9bc9d34f-a876-48d2-b16e-020a69db4561\", \"x\": [0.25, 0.5, 0.75, 1.0, 1.25, 1.5, 1.75, 2.0], \"y\": [0.010024473439381228, 0.010092070476426438, 0.010194987656761575, 0.010326532985631671, 0.010480979997797592, 0.01065344026717054, 0.010839752075150992, 0.01103638323514327]}],\n",
       "                        {\"legend\": {\"bgcolor\": \"#F5F6F9\", \"font\": {\"color\": \"#4D5663\"}}, \"paper_bgcolor\": \"#F5F6F9\", \"plot_bgcolor\": \"#F5F6F9\", \"title\": {\"font\": {\"color\": \"#4D5663\"}, \"text\": \"Svensson model\"}, \"xaxis\": {\"gridcolor\": \"#E1E5ED\", \"showgrid\": true, \"tickfont\": {\"color\": \"#4D5663\"}, \"title\": {\"font\": {\"color\": \"#4D5663\"}, \"text\": \"time to maturity\"}, \"zerolinecolor\": \"#E1E5ED\"}, \"yaxis\": {\"gridcolor\": \"#E1E5ED\", \"showgrid\": true, \"tickfont\": {\"color\": \"#4D5663\"}, \"title\": {\"font\": {\"color\": \"#4D5663\"}, \"text\": \"Zero rate %\"}, \"zerolinecolor\": \"#E1E5ED\"}},\n",
       "                        {\"showLink\": true, \"linkText\": \"Export to plot.ly\", \"plotlyServerURL\": \"https://plot.ly\", \"responsive\": true}\n",
       "                    ).then(function(){\n",
       "                            \n",
       "var gd = document.getElementById('d8e9b0c4-757e-4774-a050-93441bdb7080');\n",
       "var x = new MutationObserver(function (mutations, observer) {{\n",
       "        var display = window.getComputedStyle(gd).display;\n",
       "        if (!display || display === 'none') {{\n",
       "            console.log([gd, 'removed!']);\n",
       "            Plotly.purge(gd);\n",
       "            observer.disconnect();\n",
       "        }}\n",
       "}});\n",
       "\n",
       "// Listen for the removal of the full notebook cells\n",
       "var notebookContainer = gd.closest('#notebook-container');\n",
       "if (notebookContainer) {{\n",
       "    x.observe(notebookContainer, {childList: true});\n",
       "}}\n",
       "\n",
       "// Listen for the clearing of the current output cell\n",
       "var outputEl = gd.closest('.output');\n",
       "if (outputEl) {{\n",
       "    x.observe(outputEl, {childList: true});\n",
       "}}\n",
       "\n",
       "                        })\n",
       "                };\n",
       "                });\n",
       "            </script>\n",
       "        </div>"
      ]
     },
     "metadata": {},
     "output_type": "display_data"
    }
   ],
   "source": [
    "t = np.arange(0.25,2.25,0.25)\n",
    "y = svensson_model(0.02, -0.01, -0.01, 0, 2 , 2,t)\n",
    "df_svensson = pd.DataFrame({'t':{},'y':{}})\n",
    "n = t.shape[0]\n",
    "df_svensson['t'] = np.zeros(n)\n",
    "df_svensson['y'] = np.zeros(n)\n",
    "num = 0\n",
    "for i in t:\n",
    "    df_svensson['t'][num] = i\n",
    "    num+=1\n",
    "num = 0\n",
    "for i in y:\n",
    "    df_svensson['y'][num] = i\n",
    "    num+=1\n",
    "# df_svensson['y'] = df_svensson['y'] *100\n",
    "# print(df_svensson)\n",
    "df_svensson.iplot(x = 't' , y = 'y' , yTitle = 'Zero rate %' , xTitle = 'time to maturity' , title = 'Svensson model' , mode = 'markers + lines')"
   ]
  },
  {
   "cell_type": "code",
   "execution_count": 210,
   "metadata": {
    "ExecuteTime": {
     "end_time": "2019-10-13T16:16:10.352579Z",
     "start_time": "2019-10-13T16:16:10.340096Z"
    }
   },
   "outputs": [],
   "source": [
    "# 暫時性的 設定 \n",
    "df['svensson spot rate'] = np.zeros(df.shape[0])\n",
    "df['svensson spot rate'][0] = df_svensson['y'][0]\n",
    "df['svensson spot rate'][1] = df_svensson['y'][1]\n",
    "df['svensson spot rate'][2] = df_svensson['y'][3]\n",
    "df['svensson spot rate'][3] = df_svensson['y'][5]\n",
    "df['svensson spot rate'][4] = df_svensson['y'][7]"
   ]
  },
  {
   "cell_type": "code",
   "execution_count": 211,
   "metadata": {
    "ExecuteTime": {
     "end_time": "2019-10-13T16:16:15.021617Z",
     "start_time": "2019-10-13T16:16:14.342278Z"
    }
   },
   "outputs": [
    {
     "name": "stdout",
     "output_type": "stream",
     "text": [
      "proof weight equal to one => 1.0\n",
      "0.009152044048851442\n"
     ]
    },
    {
     "data": {
      "application/vnd.plotly.v1+json": {
       "config": {
        "linkText": "Export to plot.ly",
        "plotlyServerURL": "https://plot.ly",
        "showLink": true
       },
       "data": [
        {
         "line": {
          "color": "rgba(255, 153, 51, 1.0)",
          "dash": "solid",
          "shape": "linear",
          "width": 1.3
         },
         "marker": {
          "size": 12,
          "symbol": "circle"
         },
         "mode": "markers+lines",
         "name": "zero rate",
         "text": "",
         "type": "scatter",
         "uid": "5288961f-8bd3-4743-afb0-00f2c614b1f6",
         "x": [
          0.25,
          0.5,
          1,
          1.5,
          2
         ],
         "y": [
          0.1012712319371596,
          0.10469296074441824,
          0.10536051565782628,
          0.1068092638817053,
          0.10808027549746793
         ]
        },
        {
         "line": {
          "color": "rgba(55, 128, 191, 1.0)",
          "dash": "solid",
          "shape": "linear",
          "width": 1.3
         },
         "marker": {
          "size": 12,
          "symbol": "circle"
         },
         "mode": "markers+lines",
         "name": "svensson spot rate",
         "text": "",
         "type": "scatter",
         "uid": "27e89ee6-6c74-433c-9438-425027df16d3",
         "x": [
          0.25,
          0.5,
          1,
          1.5,
          2
         ],
         "y": [
          0.010024473439381228,
          0.010092070476426438,
          0.010326532985631671,
          0.01065344026717054,
          0.01103638323514327
         ]
        }
       ],
       "layout": {
        "legend": {
         "bgcolor": "#F5F6F9",
         "font": {
          "color": "#4D5663"
         }
        },
        "paper_bgcolor": "#F5F6F9",
        "plot_bgcolor": "#F5F6F9",
        "title": {
         "font": {
          "color": "#4D5663"
         }
        },
        "xaxis": {
         "gridcolor": "#E1E5ED",
         "showgrid": true,
         "tickfont": {
          "color": "#4D5663"
         },
         "title": {
          "font": {
           "color": "#4D5663"
          },
          "text": "time to maturity"
         },
         "zerolinecolor": "#E1E5ED"
        },
        "yaxis": {
         "gridcolor": "#E1E5ED",
         "showgrid": true,
         "tickfont": {
          "color": "#4D5663"
         },
         "title": {
          "font": {
           "color": "#4D5663"
          },
          "text": "model and real diff"
         },
         "zerolinecolor": "#E1E5ED"
        }
       }
      },
      "text/html": [
       "<div>\n",
       "        \n",
       "        \n",
       "            <div id=\"d8a635ac-4d6b-441e-a910-c2129fab12fb\" class=\"plotly-graph-div\" style=\"height:525px; width:100%;\"></div>\n",
       "            <script type=\"text/javascript\">\n",
       "                require([\"plotly\"], function(Plotly) {\n",
       "                    window.PLOTLYENV=window.PLOTLYENV || {};\n",
       "                    window.PLOTLYENV.BASE_URL='https://plot.ly';\n",
       "                    \n",
       "                if (document.getElementById(\"d8a635ac-4d6b-441e-a910-c2129fab12fb\")) {\n",
       "                    Plotly.newPlot(\n",
       "                        'd8a635ac-4d6b-441e-a910-c2129fab12fb',\n",
       "                        [{\"line\": {\"color\": \"rgba(255, 153, 51, 1.0)\", \"dash\": \"solid\", \"shape\": \"linear\", \"width\": 1.3}, \"marker\": {\"size\": 12, \"symbol\": \"circle\"}, \"mode\": \"markers+lines\", \"name\": \"zero rate\", \"text\": \"\", \"type\": \"scatter\", \"uid\": \"5288961f-8bd3-4743-afb0-00f2c614b1f6\", \"x\": [0.25, 0.5, 1.0, 1.5, 2.0], \"y\": [0.1012712319371596, 0.10469296074441824, 0.10536051565782628, 0.1068092638817053, 0.10808027549746793]}, {\"line\": {\"color\": \"rgba(55, 128, 191, 1.0)\", \"dash\": \"solid\", \"shape\": \"linear\", \"width\": 1.3}, \"marker\": {\"size\": 12, \"symbol\": \"circle\"}, \"mode\": \"markers+lines\", \"name\": \"svensson spot rate\", \"text\": \"\", \"type\": \"scatter\", \"uid\": \"27e89ee6-6c74-433c-9438-425027df16d3\", \"x\": [0.25, 0.5, 1.0, 1.5, 2.0], \"y\": [0.010024473439381228, 0.010092070476426438, 0.010326532985631671, 0.01065344026717054, 0.01103638323514327]}],\n",
       "                        {\"legend\": {\"bgcolor\": \"#F5F6F9\", \"font\": {\"color\": \"#4D5663\"}}, \"paper_bgcolor\": \"#F5F6F9\", \"plot_bgcolor\": \"#F5F6F9\", \"title\": {\"font\": {\"color\": \"#4D5663\"}}, \"xaxis\": {\"gridcolor\": \"#E1E5ED\", \"showgrid\": true, \"tickfont\": {\"color\": \"#4D5663\"}, \"title\": {\"font\": {\"color\": \"#4D5663\"}, \"text\": \"time to maturity\"}, \"zerolinecolor\": \"#E1E5ED\"}, \"yaxis\": {\"gridcolor\": \"#E1E5ED\", \"showgrid\": true, \"tickfont\": {\"color\": \"#4D5663\"}, \"title\": {\"font\": {\"color\": \"#4D5663\"}, \"text\": \"model and real diff\"}, \"zerolinecolor\": \"#E1E5ED\"}},\n",
       "                        {\"showLink\": true, \"linkText\": \"Export to plot.ly\", \"plotlyServerURL\": \"https://plot.ly\", \"responsive\": true}\n",
       "                    ).then(function(){\n",
       "                            \n",
       "var gd = document.getElementById('d8a635ac-4d6b-441e-a910-c2129fab12fb');\n",
       "var x = new MutationObserver(function (mutations, observer) {{\n",
       "        var display = window.getComputedStyle(gd).display;\n",
       "        if (!display || display === 'none') {{\n",
       "            console.log([gd, 'removed!']);\n",
       "            Plotly.purge(gd);\n",
       "            observer.disconnect();\n",
       "        }}\n",
       "}});\n",
       "\n",
       "// Listen for the removal of the full notebook cells\n",
       "var notebookContainer = gd.closest('#notebook-container');\n",
       "if (notebookContainer) {{\n",
       "    x.observe(notebookContainer, {childList: true});\n",
       "}}\n",
       "\n",
       "// Listen for the clearing of the current output cell\n",
       "var outputEl = gd.closest('.output');\n",
       "if (outputEl) {{\n",
       "    x.observe(outputEl, {childList: true});\n",
       "}}\n",
       "\n",
       "                        })\n",
       "                };\n",
       "                });\n",
       "            </script>\n",
       "        </div>"
      ]
     },
     "metadata": {},
     "output_type": "display_data"
    }
   ],
   "source": [
    "d = df['duration'].sum() # weight bottom\n",
    "df['w'] = np.zeros(df.shape[0]) \n",
    "\n",
    "for i in range(df.shape[0]):\n",
    "    df['w'][i] = df['duration'][i]/d \n",
    "    \n",
    "print('proof weight equal to one => %s'%df['w'].sum()) #  \n",
    "df['residual'] = (df['zero rate'] - df['svensson spot rate'])**2\n",
    "df['w * residual'] = df['residual'] * df['w']\n",
    "\n",
    "# print(df.head())\n",
    "print(df['w * residual'].sum())\n",
    "df[['time to maturity', 'zero rate','svensson spot rate']].iplot(x = 'time to maturity' ,\n",
    "                                                                 mode = 'markers + lines' ,\n",
    "                                                                 xTitle = 'time to maturity' , \n",
    "                                                                 yTitle = 'model and real diff' \n",
    "                                                                )\n",
    "# 下一步估計 parameters "
   ]
  },
  {
   "cell_type": "code",
   "execution_count": 212,
   "metadata": {
    "ExecuteTime": {
     "end_time": "2019-10-13T16:16:20.186373Z",
     "start_time": "2019-10-13T16:16:20.155457Z"
    }
   },
   "outputs": [
    {
     "name": "stdout",
     "output_type": "stream",
     "text": [
      "   time to maturity  coupon  bond price  bond principal  zero rate %  \\\n",
      "0              0.25       0        97.5             100    10.127123   \n",
      "1              0.50       0        94.9             100    10.469296   \n",
      "2              1.00       0        90.0             100    10.536052   \n",
      "3              1.50       8        96.0             100    10.680926   \n",
      "4              2.00      12       101.6             100    10.808028   \n",
      "\n",
      "   duration  zero rate  svensson spot rate         w  residual  w * residual  \n",
      "0  0.250000   0.101271            0.010024  0.062250  0.008326      0.000518  \n",
      "1  0.500000   0.104693            0.010092  0.124501  0.008949      0.001114  \n",
      "2  1.000000   0.105361            0.010327  0.249001  0.009031      0.002249  \n",
      "3  1.008951   0.106809            0.010653  0.251230  0.009246      0.002323  \n",
      "4  1.257090   0.108080            0.011036  0.313017  0.009418      0.002948  \n"
     ]
    }
   ],
   "source": [
    "print(df.head())"
   ]
  },
  {
   "cell_type": "code",
   "execution_count": 213,
   "metadata": {
    "ExecuteTime": {
     "end_time": "2019-10-13T16:16:21.552049Z",
     "start_time": "2019-10-13T16:16:21.515150Z"
    }
   },
   "outputs": [
    {
     "name": "stdout",
     "output_type": "stream",
     "text": [
      "[0.10127123 0.10469296 0.10536052 0.10680926 0.10808028] [0.25 0.5  1.   1.5  2.  ]\n"
     ]
    }
   ],
   "source": [
    "# least square \n",
    "yi = np.array([df['zero rate']])\n",
    "ti = np.array([df['time to maturity']])\n",
    "print(yi[0], ti[0])"
   ]
  },
  {
   "cell_type": "code",
   "execution_count": 214,
   "metadata": {
    "ExecuteTime": {
     "end_time": "2019-10-13T16:16:25.437847Z",
     "start_time": "2019-10-13T16:16:25.110021Z"
    }
   },
   "outputs": [],
   "source": [
    "import matplotlib.pyplot as pt \n",
    "from matplotlib import style\n",
    "style.use('ggplot')\n",
    "from pylab import rcParams\n",
    "rcParams['figure.figsize'] = 10, 5"
   ]
  },
  {
   "cell_type": "code",
   "execution_count": 51,
   "metadata": {
    "ExecuteTime": {
     "end_time": "2019-10-13T10:41:01.001709Z",
     "start_time": "2019-10-13T10:41:00.996722Z"
    }
   },
   "outputs": [],
   "source": [
    "'''\n",
    "Try To Log Transformation Base For Data Linearization Does Not Matter\n",
    "'''\n",
    "# yii = np.log(1/(yi)) * ti\n",
    "# pt.plot(ti,yii)"
   ]
  },
  {
   "cell_type": "code",
   "execution_count": 215,
   "metadata": {
    "ExecuteTime": {
     "end_time": "2019-10-13T16:16:30.094923Z",
     "start_time": "2019-10-13T16:16:30.075977Z"
    }
   },
   "outputs": [],
   "source": [
    "'''\n",
    "使用 自定參數 svemsson_model 測試資料來編寫模型 預測 參數是否正確\n",
    "'''\n",
    "ti = np.arange(0.25,500.25,0.25)\n",
    "t_b0 , t_b1 , t_b2 , t_b3 ,t_t1 , t_t2 = 0.03 , -0.02 , -0.02 , 0.0 , 2.0 , 2.0  \n",
    "yi = svensson_model(t_b0 , t_b1 , t_b2 , t_b3 ,t_t1 , t_t2 , ti)"
   ]
  },
  {
   "cell_type": "code",
   "execution_count": 216,
   "metadata": {
    "ExecuteTime": {
     "end_time": "2019-10-13T16:16:36.028009Z",
     "start_time": "2019-10-13T16:16:32.940698Z"
    }
   },
   "outputs": [
    {
     "data": {
      "text/plain": [
       "'\\n從圖形得知 不是 綫性 linear ， 綫性轉換(using linear transformation)后 預測(previously)能力更不好 \\n'"
      ]
     },
     "execution_count": 216,
     "metadata": {},
     "output_type": "execute_result"
    },
    {
     "data": {
      "image/png": "[encoded data removed]",
      "text/plain": [
       "<Figure size 720x360 with 1 Axes>"
      ]
     },
     "metadata": {},
     "output_type": "display_data"
    }
   ],
   "source": [
    "pt.plot(ti,yi,'r+', markersize = 1 )\n",
    "'''\n",
    "從圖形得知 不是 綫性 linear ， 綫性轉換(using linear transformation)后 預測(previously)能力更不好 \n",
    "'''"
   ]
  },
  {
   "cell_type": "code",
   "execution_count": 217,
   "metadata": {
    "ExecuteTime": {
     "end_time": "2019-10-13T16:16:39.897278Z",
     "start_time": "2019-10-13T16:16:39.757973Z"
    }
   },
   "outputs": [
    {
     "name": "stdout",
     "output_type": "stream",
     "text": [
      "linear least square method\n",
      "==========\n",
      "參數 b0 , 真實 0.03 , 估計 0.03 , 差距 0.0\n",
      "參數 b1 , 真實 -0.02 , 估計 -0.02 , 差距 0.0\n",
      "參數 b2 , 真實 -0.02 , 估計 -0.0 , 差距 0.02\n",
      "參數 b3 , 真實 0.0 , 估計 -0.02 , 差距 0.02\n",
      "參數 tau1 , 真實 2.0 , 估計 2.0 , 差距 0.0\n",
      "參數 tau2 , 真實 2.0 , 估計 2.0 , 差距 0.0\n"
     ]
    }
   ],
   "source": [
    "'''\n",
    "linear least square\n",
    "'''\n",
    "# print(yi)\n",
    "\n",
    "from scipy.optimize import leastsq\n",
    "from scipy.optimize import minimize\n",
    "\n",
    "def svensson_exp_tau(tau,t):  \n",
    "    return ( 1 - np.exp( -(t / tau) ) ) / ( t / tau)\n",
    "\n",
    "def n_svensson_model(params, t):\n",
    "    b0,b1,b2,b3,tau1,tau2 = params \n",
    "    svensson = b0 +\\\n",
    "    b1 * svensson_exp_tau(tau1,t) +\\\n",
    "    b2 *( svensson_exp_tau(tau1,t) - np.exp( -(t/tau1) ) ) +\\\n",
    "    b3 *( svensson_exp_tau(tau2,t) - np.exp(-(t/tau2)) )\n",
    "    return svensson\n",
    "\n",
    "def error(params , t , y):\n",
    "    return y - n_svensson_model(params,t)\n",
    "\n",
    "po = np.array([0.02, -0.01, -0.01, 0, 2 , 2])\n",
    "\n",
    "params = leastsq(error , po , args=(ti,yi))\n",
    "# params = minimize( error , po , args=(ti,yi), method='CG')\n",
    "params = params[0]\n",
    "\n",
    "b0,b1,b2,b3,tau1,tau2 = params\n",
    "\n",
    "rn = 2\n",
    "show = lambda a , b , rn : np.round(np.abs(a - b),rn)  \n",
    "\n",
    "par = \"b0,b1,b2,b3,tau1,tau2\".split(',')\n",
    "p = t_b0 , t_b1 , t_b2 , t_b3 ,t_t1 , t_t2 \n",
    "\n",
    "print('linear least square method')\n",
    "print('='*10)\n",
    "for i in range(po.size) :\n",
    "    print('參數 %s , 真實 %s , 估計 %s , 差距 %s'%(par[i] , p[i] , np.round(params[i],2) , np.round(np.abs(params[i] - p[i]),2)))\n",
    "# for loop modifily"
   ]
  },
  {
   "cell_type": "code",
   "execution_count": 220,
   "metadata": {
    "ExecuteTime": {
     "end_time": "2019-10-13T16:16:52.810434Z",
     "start_time": "2019-10-13T16:16:52.650792Z"
    }
   },
   "outputs": [
    {
     "name": "stdout",
     "output_type": "stream",
     "text": [
      "`xtol` termination condition is satisfied.\n",
      "Function evaluations 16, initial cost 9.2369e-02, final cost 9.2369e-02, first-order optimality 1.91e+01.\n",
      "non-linear least square method\n",
      "==========\n",
      "參數 b0 , 真實 0.03 , 估計 0.02 , 差距 0.01\n",
      "參數 b1 , 真實 -0.02 , 估計 -0.01 , 差距 0.01\n",
      "參數 b2 , 真實 -0.02 , 估計 -0.01 , 差距 0.01\n",
      "參數 b3 , 真實 0.0 , 估計 0.0 , 差距 0.0\n",
      "參數 tau1 , 真實 2.0 , 估計 2.0 , 差距 0.0\n",
      "參數 tau2 , 真實 2.0 , 估計 2.0 , 差距 0.0\n"
     ]
    }
   ],
   "source": [
    "'''\n",
    "non linear least square \n",
    "'''\n",
    "from scipy.optimize import least_squares\n",
    "\n",
    "def svensson_exp_tau(tau,t):  \n",
    "    return ( 1 - np.exp( -(t / tau) ) ) / ( t / tau)\n",
    "\n",
    "def n_svensson_model(params, t):\n",
    "    b0,b1,b2,b3,tau1,tau2 = params \n",
    "    svensson = b0 +\\\n",
    "    b1 * svensson_exp_tau(tau1,t) +\\\n",
    "    b2 *( svensson_exp_tau(tau1,t) - np.exp( -(t/tau1) ) ) +\\\n",
    "    b3 *( svensson_exp_tau(tau2,t) - np.exp(-(t/tau2)) )\n",
    "    return svensson\n",
    "\n",
    "def error(params , t , y):\n",
    "    return y - n_svensson_model(params,t)\n",
    "\n",
    "def jac(params, t, yi):\n",
    "    J = np.empty((t.size, params.size))\n",
    "    J[:, 0] = 1.0\n",
    "    J[:, 1] = svensson_exp_tau(params[4],t)\n",
    "    J[:, 2] = svensson_exp_tau(params[4],t) - np.exp( -(t/params[4]) )\n",
    "    J[:, 3] = svensson_exp_tau(params[5],t) - np.exp( -(t/params[5]) )\n",
    "    J[:, 4] = (params[1]/t) * (1 - ( np.exp(-t/params[4]) + np.exp(-t/params[4]) * t / params[4] ) ) + params[2] *  ( ( 1- np.exp(-t/params[4]) )/t - np.exp(-t/params[4]) * (1/params[4] + t/(params[4] **2 )) )\n",
    "    J[:, 5] = params[3] *  ( ( 1- np.exp(-t/params[5]) )/t - np.exp(-t/params[5]) * (1/params[5] + t/(params[5] **2 )) )\n",
    "    return J\n",
    "\n",
    "po = np.array([0.02, -0.01, -0.01, 0.0, 2.0 , 2.0])\n",
    "t = np.arange(0.25,500.25,0.25)\n",
    "t_b0 , t_b1 , t_b2 , t_b3 ,t_t1 , t_t2 = 0.03 , -0.02 , -0.02 , 0.0 , 2.0 , 2.0  \n",
    "yi = svensson_model(t_b0 , t_b1 , t_b2 , t_b3 ,t_t1 , t_t2 , t)\n",
    "\n",
    "res = least_squares(error, po, jac=jac , args=(t, yi), verbose=1)\n",
    "\n",
    "par = \"b0,b1,b2,b3,tau1,tau2\".split(',')\n",
    "p = t_b0 , t_b1 , t_b2 , t_b3 ,t_t1 , t_t2 \n",
    "print('non-linear least square method')\n",
    "print('='*10)\n",
    "for i in range(po.size) :\n",
    "    print('參數 %s , 真實 %s , 估計 %s , 差距 %s'%(par[i] , p[i] , res.x[i], np.round(np.abs(res.x[i] - p[i]),2)))\n",
    "# [ print (res.x) ,  ]  "
   ]
  },
  {
   "cell_type": "code",
   "execution_count": 230,
   "metadata": {
    "ExecuteTime": {
     "end_time": "2019-10-13T16:22:33.348425Z",
     "start_time": "2019-10-13T16:22:33.251610Z"
    }
   },
   "outputs": [
    {
     "ename": "ValueError",
     "evalue": "shapes (2000,6) and (2000,6) not aligned: 6 (dim 1) != 2000 (dim 0)",
     "output_type": "error",
     "traceback": [
      "\u001b[1;31m---------------------------------------------------------------------------\u001b[0m",
      "\u001b[1;31mValueError\u001b[0m                                Traceback (most recent call last)",
      "\u001b[1;32m<ipython-input-230-0a0d0418c5bf>\u001b[0m in \u001b[0;36m<module>\u001b[1;34m\u001b[0m\n\u001b[0;32m     10\u001b[0m \u001b[0mt\u001b[0m \u001b[1;33m=\u001b[0m \u001b[0mnp\u001b[0m\u001b[1;33m.\u001b[0m\u001b[0marange\u001b[0m\u001b[1;33m(\u001b[0m\u001b[1;36m0.25\u001b[0m\u001b[1;33m,\u001b[0m\u001b[1;36m500.25\u001b[0m\u001b[1;33m,\u001b[0m\u001b[1;36m0.25\u001b[0m\u001b[1;33m)\u001b[0m\u001b[1;33m\u001b[0m\u001b[1;33m\u001b[0m\u001b[0m\n\u001b[0;32m     11\u001b[0m \u001b[0my\u001b[0m \u001b[1;33m=\u001b[0m \u001b[0msvensson_model\u001b[0m\u001b[1;33m(\u001b[0m\u001b[0mt_b0\u001b[0m \u001b[1;33m,\u001b[0m \u001b[0mt_b1\u001b[0m \u001b[1;33m,\u001b[0m \u001b[0mt_b2\u001b[0m \u001b[1;33m,\u001b[0m \u001b[0mt_b3\u001b[0m \u001b[1;33m,\u001b[0m\u001b[0mt_t1\u001b[0m \u001b[1;33m,\u001b[0m \u001b[0mt_t2\u001b[0m \u001b[1;33m,\u001b[0m \u001b[0mt\u001b[0m\u001b[1;33m)\u001b[0m\u001b[1;33m\u001b[0m\u001b[1;33m\u001b[0m\u001b[0m\n\u001b[1;32m---> 12\u001b[1;33m \u001b[0mres2\u001b[0m \u001b[1;33m=\u001b[0m \u001b[0mminimize\u001b[0m\u001b[1;33m(\u001b[0m\u001b[0merror\u001b[0m\u001b[1;33m,\u001b[0m \u001b[0mpo\u001b[0m \u001b[1;33m,\u001b[0m \u001b[0mjac\u001b[0m\u001b[1;33m=\u001b[0m\u001b[0mjac\u001b[0m\u001b[1;33m,\u001b[0m\u001b[0margs\u001b[0m\u001b[1;33m=\u001b[0m\u001b[1;33m(\u001b[0m\u001b[0mt\u001b[0m\u001b[1;33m,\u001b[0m\u001b[0my\u001b[0m\u001b[1;33m)\u001b[0m\u001b[1;33m,\u001b[0m\u001b[0mmethod\u001b[0m\u001b[1;33m=\u001b[0m\u001b[1;34m'CG'\u001b[0m\u001b[1;33m)\u001b[0m\u001b[1;33m\u001b[0m\u001b[1;33m\u001b[0m\u001b[0m\n\u001b[0m\u001b[0;32m     13\u001b[0m \u001b[1;31m# res2 = least_squares(error, po, jac=jac , args=(t, y), verbose=1)\u001b[0m\u001b[1;33m\u001b[0m\u001b[1;33m\u001b[0m\u001b[1;33m\u001b[0m\u001b[0m\n\u001b[0;32m     14\u001b[0m \u001b[0mpar\u001b[0m \u001b[1;33m=\u001b[0m \u001b[1;34m\"b0,b1,b2,b3,tau1,tau2\"\u001b[0m\u001b[1;33m.\u001b[0m\u001b[0msplit\u001b[0m\u001b[1;33m(\u001b[0m\u001b[1;34m','\u001b[0m\u001b[1;33m)\u001b[0m\u001b[1;33m\u001b[0m\u001b[1;33m\u001b[0m\u001b[0m\n",
      "\u001b[1;32m~\\Anaconda3\\lib\\site-packages\\scipy\\optimize\\_minimize.py\u001b[0m in \u001b[0;36mminimize\u001b[1;34m(fun, x0, args, method, jac, hess, hessp, bounds, constraints, tol, callback, options)\u001b[0m\n\u001b[0;32m    590\u001b[0m         \u001b[1;32mreturn\u001b[0m \u001b[0m_minimize_powell\u001b[0m\u001b[1;33m(\u001b[0m\u001b[0mfun\u001b[0m\u001b[1;33m,\u001b[0m \u001b[0mx0\u001b[0m\u001b[1;33m,\u001b[0m \u001b[0margs\u001b[0m\u001b[1;33m,\u001b[0m \u001b[0mcallback\u001b[0m\u001b[1;33m,\u001b[0m \u001b[1;33m**\u001b[0m\u001b[0moptions\u001b[0m\u001b[1;33m)\u001b[0m\u001b[1;33m\u001b[0m\u001b[1;33m\u001b[0m\u001b[0m\n\u001b[0;32m    591\u001b[0m     \u001b[1;32melif\u001b[0m \u001b[0mmeth\u001b[0m \u001b[1;33m==\u001b[0m \u001b[1;34m'cg'\u001b[0m\u001b[1;33m:\u001b[0m\u001b[1;33m\u001b[0m\u001b[1;33m\u001b[0m\u001b[0m\n\u001b[1;32m--> 592\u001b[1;33m         \u001b[1;32mreturn\u001b[0m \u001b[0m_minimize_cg\u001b[0m\u001b[1;33m(\u001b[0m\u001b[0mfun\u001b[0m\u001b[1;33m,\u001b[0m \u001b[0mx0\u001b[0m\u001b[1;33m,\u001b[0m \u001b[0margs\u001b[0m\u001b[1;33m,\u001b[0m \u001b[0mjac\u001b[0m\u001b[1;33m,\u001b[0m \u001b[0mcallback\u001b[0m\u001b[1;33m,\u001b[0m \u001b[1;33m**\u001b[0m\u001b[0moptions\u001b[0m\u001b[1;33m)\u001b[0m\u001b[1;33m\u001b[0m\u001b[1;33m\u001b[0m\u001b[0m\n\u001b[0m\u001b[0;32m    593\u001b[0m     \u001b[1;32melif\u001b[0m \u001b[0mmeth\u001b[0m \u001b[1;33m==\u001b[0m \u001b[1;34m'bfgs'\u001b[0m\u001b[1;33m:\u001b[0m\u001b[1;33m\u001b[0m\u001b[1;33m\u001b[0m\u001b[0m\n\u001b[0;32m    594\u001b[0m         \u001b[1;32mreturn\u001b[0m \u001b[0m_minimize_bfgs\u001b[0m\u001b[1;33m(\u001b[0m\u001b[0mfun\u001b[0m\u001b[1;33m,\u001b[0m \u001b[0mx0\u001b[0m\u001b[1;33m,\u001b[0m \u001b[0margs\u001b[0m\u001b[1;33m,\u001b[0m \u001b[0mjac\u001b[0m\u001b[1;33m,\u001b[0m \u001b[0mcallback\u001b[0m\u001b[1;33m,\u001b[0m \u001b[1;33m**\u001b[0m\u001b[0moptions\u001b[0m\u001b[1;33m)\u001b[0m\u001b[1;33m\u001b[0m\u001b[1;33m\u001b[0m\u001b[0m\n",
      "\u001b[1;32m~\\Anaconda3\\lib\\site-packages\\scipy\\optimize\\optimize.py\u001b[0m in \u001b[0;36m_minimize_cg\u001b[1;34m(fun, x0, args, jac, callback, gtol, norm, eps, maxiter, disp, return_all, **unknown_options)\u001b[0m\n\u001b[0;32m   1313\u001b[0m \u001b[1;33m\u001b[0m\u001b[0m\n\u001b[0;32m   1314\u001b[0m     \u001b[1;32mwhile\u001b[0m \u001b[1;33m(\u001b[0m\u001b[0mgnorm\u001b[0m \u001b[1;33m>\u001b[0m \u001b[0mgtol\u001b[0m\u001b[1;33m)\u001b[0m \u001b[1;32mand\u001b[0m \u001b[1;33m(\u001b[0m\u001b[0mk\u001b[0m \u001b[1;33m<\u001b[0m \u001b[0mmaxiter\u001b[0m\u001b[1;33m)\u001b[0m\u001b[1;33m:\u001b[0m\u001b[1;33m\u001b[0m\u001b[1;33m\u001b[0m\u001b[0m\n\u001b[1;32m-> 1315\u001b[1;33m         \u001b[0mdeltak\u001b[0m \u001b[1;33m=\u001b[0m \u001b[0mnumpy\u001b[0m\u001b[1;33m.\u001b[0m\u001b[0mdot\u001b[0m\u001b[1;33m(\u001b[0m\u001b[0mgfk\u001b[0m\u001b[1;33m,\u001b[0m \u001b[0mgfk\u001b[0m\u001b[1;33m)\u001b[0m\u001b[1;33m\u001b[0m\u001b[1;33m\u001b[0m\u001b[0m\n\u001b[0m\u001b[0;32m   1316\u001b[0m \u001b[1;33m\u001b[0m\u001b[0m\n\u001b[0;32m   1317\u001b[0m         \u001b[0mcached_step\u001b[0m \u001b[1;33m=\u001b[0m \u001b[1;33m[\u001b[0m\u001b[1;32mNone\u001b[0m\u001b[1;33m]\u001b[0m\u001b[1;33m\u001b[0m\u001b[1;33m\u001b[0m\u001b[0m\n",
      "\u001b[1;32m<__array_function__ internals>\u001b[0m in \u001b[0;36mdot\u001b[1;34m(*args, **kwargs)\u001b[0m\n",
      "\u001b[1;31mValueError\u001b[0m: shapes (2000,6) and (2000,6) not aligned: 6 (dim 1) != 2000 (dim 0)"
     ]
    }
   ],
   "source": [
    "'''\n",
    "non linear \n",
    "Conjugate gradient methods (method='CG')\n",
    "'''\n",
    "from scipy.optimize import minimize\n",
    "\n",
    "t_b0 , t_b1 , t_b2 , t_b3 ,t_t1 , t_t2 = 0.03 , -0.02 , -0.02 , 0.0 , 2.0 , 2.0  \n",
    "\n",
    "po = np.array([0.02, -0.01, -0.01, 0.0, 2.0 , 2.0])\n",
    "t = np.arange(0.25,500.25,0.25)\n",
    "y = svensson_model(t_b0 , t_b1 , t_b2 , t_b3 ,t_t1 , t_t2 , t)\n",
    "res2 = minimize(error, po , jac=jac,args=(t,y),method='CG')\n",
    "# res2 = least_squares(error, po, jac=jac , args=(t, y), verbose=1)\n",
    "par = \"b0,b1,b2,b3,tau1,tau2\".split(',')\n",
    "p = t_b0 , t_b1 , t_b2 , t_b3 ,t_t1 , t_t2 \n",
    "print('non-linear conjugate gradient methods')\n",
    "print('='*10)\n",
    "for i in range(po.size) :\n",
    "    print('參數 %s , 真實 %s , 估計 %s , 差距 %s'%(par[i] , p[i] , res2.x[i], np.round(np.abs(res2.x[i] - p[i]),2)))"
   ]
  },
  {
   "cell_type": "code",
   "execution_count": 182,
   "metadata": {
    "ExecuteTime": {
     "end_time": "2019-10-13T13:42:26.514855Z",
     "start_time": "2019-10-13T13:42:26.491944Z"
    }
   },
   "outputs": [
    {
     "name": "stdout",
     "output_type": "stream",
     "text": [
      "linear least square method\n",
      "==========\n",
      "參數 b0 , 真實 0.03 , 估計 0.03 , 差距 0.0\n",
      "參數 b1 , 真實 -0.02 , 估計 -0.02 , 差距 0.0\n",
      "參數 b2 , 真實 -0.02 , 估計 -0.0 , 差距 0.02\n",
      "參數 b3 , 真實 0.0 , 估計 -0.02 , 差距 0.02\n",
      "參數 tau1 , 真實 2.0 , 估計 2.0 , 差距 0.0\n",
      "參數 tau2 , 真實 2.0 , 估計 2.0 , 差距 0.0\n",
      "\n",
      "\n",
      "non-linear conjugate gradient methods\n",
      "==========\n",
      "參數 b0 , 真實 0.03 , 估計 0.02 , 差距 0.01\n",
      "參數 b1 , 真實 -0.02 , 估計 -0.01 , 差距 0.01\n",
      "參數 b2 , 真實 -0.02 , 估計 -0.01 , 差距 0.01\n",
      "參數 b3 , 真實 0.0 , 估計 0.0 , 差距 0.0\n",
      "參數 tau1 , 真實 2.0 , 估計 2.0 , 差距 0.0\n",
      "參數 tau2 , 真實 2.0 , 估計 2.0 , 差距 0.0\n",
      "\n",
      "\n",
      "non-linear least square method\n",
      "==========\n",
      "參數 b0 , 真實 0.03 , 估計 0.02 , 差距 0.01\n",
      "參數 b1 , 真實 -0.02 , 估計 -0.01 , 差距 0.01\n",
      "參數 b2 , 真實 -0.02 , 估計 -0.01 , 差距 0.01\n",
      "參數 b3 , 真實 0.0 , 估計 0.0 , 差距 0.0\n",
      "參數 tau1 , 真實 2.0 , 估計 2.0 , 差距 0.0\n",
      "參數 tau2 , 真實 2.0 , 估計 2.0 , 差距 0.0\n"
     ]
    }
   ],
   "source": [
    "par = \"b0,b1,b2,b3,tau1,tau2\".split(',')\n",
    "p = t_b0 , t_b1 , t_b2 , t_b3 ,t_t1 , t_t2 \n",
    "print('linear least square method')\n",
    "print('='*10)\n",
    "for i in range(po.size) :\n",
    "    print('參數 %s , 真實 %s , 估計 %s , 差距 %s'%(par[i] , p[i] , np.round(params[i],2) , np.round(np.abs(params[i] - p[i]),2)))\n",
    "print('\\n')\n",
    "print('non-linear conjugate gradient methods')\n",
    "print('='*10)\n",
    "for i in range(po.size) :\n",
    "    print('參數 %s , 真實 %s , 估計 %s , 差距 %s'%(par[i] , p[i] , res2.x[i], np.round(np.abs(res2.x[i] - p[i]),2)))\n",
    "print('\\n')\n",
    "print('non-linear least square method')\n",
    "print('='*10)\n",
    "for i in range(po.size) :\n",
    "    print('參數 %s , 真實 %s , 估計 %s , 差距 %s'%(par[i] , p[i] , res.x[i], np.round(np.abs(res.x[i] - p[i]),2)))"
   ]
  },
  {
   "cell_type": "code",
   "execution_count": 153,
   "metadata": {
    "ExecuteTime": {
     "end_time": "2019-10-13T13:12:51.251229Z",
     "start_time": "2019-10-13T13:12:50.924756Z"
    }
   },
   "outputs": [
    {
     "name": "stdout",
     "output_type": "stream",
     "text": [
      "`ftol` termination condition is satisfied.\n",
      "Function evaluations 131, initial cost 4.4383e+00, final cost 1.5375e-04, first-order optimality 4.52e-08.\n"
     ]
    },
    {
     "data": {
      "image/png": "[encoded data removed]",
      "text/plain": [
       "<Figure size 720x360 with 1 Axes>"
      ]
     },
     "metadata": {},
     "output_type": "display_data"
    }
   ],
   "source": [
    "'''\n",
    "non linear least square example \n",
    "from https://docs.scipy.org/doc/scipy/reference/tutorial/optimize.html#least-squares-minimization-least-squares\n",
    "'''\n",
    "from scipy.optimize import least_squares\n",
    " \n",
    "def model(x, u):\n",
    "    return x[0] * (u ** 2 + x[1] * u) / (u ** 2 + x[2] * u + x[3])\n",
    " \n",
    "def fun(x, u, y):\n",
    "    return model(x, u) - y\n",
    " \n",
    "def jac(x, u ,y):\n",
    "    J = np.empty((u.size, x.size))\n",
    "    den = u ** 2 + x[2] * u + x[3]\n",
    "    num = u ** 2 + x[1] * u\n",
    "    J[:, 0] = num / den\n",
    "    J[:, 1] = x[0] * u / den\n",
    "    J[:, 2] = -x[0] * num * u / den ** 2\n",
    "    J[:, 3] = -x[0] * num / den ** 2\n",
    "    return J\n",
    " \n",
    "u = np.array([4.0, 2.0, 1.0, 5.0e-1, 2.5e-1, 1.67e-1, 1.25e-1, 1.0e-1,\n",
    "              8.33e-2, 7.14e-2, 6.25e-2])\n",
    "y = np.array([1.957e-1, 1.947e-1, 1.735e-1, 1.6e-1, 8.44e-2, 6.27e-2,\n",
    "              4.56e-2, 3.42e-2, 3.23e-2, 2.35e-2, 2.46e-2])\n",
    "x0 = np.array([2.5, 3.9, 4.15, 3.9])\n",
    "res = least_squares(fun, x0, jac=jac, bounds=(0, 100), args=(u, y), verbose=1)\n",
    "\n",
    "res.x\n",
    " \n",
    "import matplotlib.pyplot as plt\n",
    "u_test = np.linspace(0, 5)\n",
    "y_test = model(res.x, u_test)\n",
    "plt.plot(u, y, 'o', markersize=4, label='data')\n",
    "plt.plot(u_test, y_test, label='fitted model')\n",
    "plt.xlabel(\"u\")\n",
    "plt.ylabel(\"y\")\n",
    "plt.legend(loc='lower right')\n",
    "plt.show()"
   ]
  },
  {
   "cell_type": "code",
   "execution_count": null,
   "metadata": {
    "ExecuteTime": {
     "end_time": "2019-10-11T09:41:57.752029Z",
     "start_time": "2019-10-11T09:39:37.359Z"
    },
    "code_folding": [
     37
    ]
   },
   "outputs": [],
   "source": [
    "'''\n",
    "least square method custom\n",
    "'''\n",
    "def leastsq(func, x0, args=(), Dfun=None, full_output=0,\n",
    "            col_deriv=0, ftol=1.49012e-8, xtol=1.49012e-8,\n",
    "            gtol=0.0, maxfev=0, epsfcn=None, factor=100, diag=None):\n",
    "    \n",
    "    x0 = asarray(x0).flatten()\n",
    "    n = len(x0)\n",
    "    if not isinstance(args, tuple):\n",
    "        args = (args,)\n",
    "    shape, dtype = _check_func('leastsq', 'func', func, x0, args, n)\n",
    "    m = shape[0]\n",
    "\n",
    "    if n > m:\n",
    "        raise TypeError('Improper input: N=%s must not exceed M=%s' % (n, m))\n",
    "        # overdetermined linear equation\n",
    "        \n",
    "    if epsfcn is None:\n",
    "        epsfcn = finfo(dtype).eps\n",
    "\n",
    "    if Dfun is None:\n",
    "        if maxfev == 0:\n",
    "            maxfev = 200*(n + 1)\n",
    "        retval = _minpack._lmdif(func, x0, args, full_output, ftol, xtol,\n",
    "                                 gtol, maxfev, epsfcn, factor, diag)\n",
    "    else:\n",
    "        if col_deriv:\n",
    "            _check_func('leastsq', 'Dfun', Dfun, x0, args, n, (n, m))\n",
    "        else:\n",
    "            _check_func('leastsq', 'Dfun', Dfun, x0, args, n, (m, n))\n",
    "        if maxfev == 0:\n",
    "            maxfev = 100 * (n + 1)\n",
    "        retval = _minpack._lmder(func, Dfun, x0, args, full_output,\n",
    "                                 col_deriv, ftol, xtol, gtol, maxfev,\n",
    "                                 factor, diag)\n",
    "\n",
    "    errors = {0: [\"Improper input parameters.\", TypeError],\n",
    "              1: [\"Both actual and predicted relative reductions \"\n",
    "                  \"in the sum of squares\\n  are at most %f\" % ftol, None],\n",
    "              2: [\"The relative error between two consecutive \"\n",
    "                  \"iterates is at most %f\" % xtol, None],\n",
    "              3: [\"Both actual and predicted relative reductions in \"\n",
    "                  \"the sum of squares\\n  are at most %f and the \"\n",
    "                  \"relative error between two consecutive \"\n",
    "                  \"iterates is at \\n  most %f\" % (ftol, xtol), None],\n",
    "              4: [\"The cosine of the angle between func(x) and any \"\n",
    "                  \"column of the\\n  Jacobian is at most %f in \"\n",
    "                  \"absolute value\" % gtol, None],\n",
    "              5: [\"Number of calls to function has reached \"\n",
    "                  \"maxfev = %d.\" % maxfev, ValueError],\n",
    "              6: [\"ftol=%f is too small, no further reduction \"\n",
    "                  \"in the sum of squares\\n  is possible.\"\"\" % ftol,\n",
    "                  ValueError],\n",
    "              7: [\"xtol=%f is too small, no further improvement in \"\n",
    "                  \"the approximate\\n  solution is possible.\" % xtol,\n",
    "                  ValueError],\n",
    "              8: [\"gtol=%f is too small, func(x) is orthogonal to the \"\n",
    "                  \"columns of\\n  the Jacobian to machine \"\n",
    "                  \"precision.\" % gtol, ValueError]}\n",
    "\n",
    "    # The FORTRAN return value (possible return values are >= 0 and <= 8)\n",
    "    info = retval[-1]\n",
    "\n",
    "    if full_output:\n",
    "        cov_x = None\n",
    "        if info in LEASTSQ_SUCCESS:\n",
    "            from numpy.dual import inv\n",
    "            perm = take(eye(n), retval[1]['ipvt'] - 1, 0)\n",
    "            r = triu(transpose(retval[1]['fjac'])[:n, :])\n",
    "            R = dot(r, perm)\n",
    "            try:\n",
    "                cov_x = inv(dot(transpose(R), R))\n",
    "            except (LinAlgError, ValueError):\n",
    "                pass\n",
    "        return (retval[0], cov_x) + retval[1:-1] + (errors[info][0], info)\n",
    "    else:\n",
    "        if info in LEASTSQ_FAILURE:\n",
    "            warnings.warn(errors[info][0], RuntimeWarning)\n",
    "        elif info == 0:\n",
    "            raise errors[info][1](errors[info][0])\n",
    "        return retval[0], info"
   ]
  }
 ],
 "metadata": {
  "hide_input": false,
  "kernelspec": {
   "display_name": "Python 3",
   "language": "python",
   "name": "python3"
  },
  "language_info": {
   "codemirror_mode": {
    "name": "ipython",
    "version": 3
   },
   "file_extension": ".py",
   "mimetype": "text/x-python",
   "name": "python",
   "nbconvert_exporter": "python",
   "pygments_lexer": "ipython3",
   "version": "3.7.3"
  },
  "toc": {
   "base_numbering": 1,
   "nav_menu": {},
   "number_sections": true,
   "sideBar": true,
   "skip_h1_title": false,
   "title_cell": "Table of Contents",
   "title_sidebar": "Contents",
   "toc_cell": false,
   "toc_position": {},
   "toc_section_display": true,
   "toc_window_display": false
  },
  "varInspector": {
   "cols": {
    "lenName": 16,
    "lenType": 16,
    "lenVar": 40
   },
   "kernels_config": {
    "python": {
     "delete_cmd_postfix": "",
     "delete_cmd_prefix": "del ",
     "library": "var_list.py",
     "varRefreshCmd": "print(var_dic_list())"
    },
    "r": {
     "delete_cmd_postfix": ") ",
     "delete_cmd_prefix": "rm(",
     "library": "var_list.r",
     "varRefreshCmd": "cat(var_dic_list()) "
    }
   },
   "types_to_exclude": [
    "module",
    "function",
    "builtin_function_or_method",
    "instance",
    "_Feature"
   ],
   "window_display": false
  }
 },
 "nbformat": 4,
 "nbformat_minor": 2
}
