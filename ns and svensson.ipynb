{
 "cells": [
  {
   "cell_type": "code",
   "execution_count": 21,
   "metadata": {
    "ExecuteTime": {
     "end_time": "2020-04-09T15:32:58.472552Z",
     "start_time": "2020-04-09T15:32:58.464547Z"
    }
   },
   "outputs": [],
   "source": [
    "import numpy as np\n",
    "import pandas as pd\n",
    "import scipy.optimize as lm\n",
    "from matplotlib.pyplot import style\n",
    "style.use('ggplot')\n",
    "import matplotlib.pyplot as pt"
   ]
  },
  {
   "cell_type": "code",
   "execution_count": 34,
   "metadata": {
    "ExecuteTime": {
     "end_time": "2020-04-09T15:40:53.847340Z",
     "start_time": "2020-04-09T15:40:53.834380Z"
    }
   },
   "outputs": [],
   "source": [
    "a = lambda t , tau : (1 - np.exp(-t/tau) )/(t/tau)\n",
    "\n",
    "b = lambda t , tau : (1 - np.exp(-t/tau) )/(t/tau) - np.exp(-t/tau)\n",
    "\n",
    "def nelson_siegel(p,t):\n",
    "    p0 , p1 , p2 , tau  =  p\n",
    "    return ( p0 + p1 * a(t,tau) + p2 * b(t,tau) )\n",
    "\n",
    "def svensson(p,t):\n",
    "    p0 , p1 , p2 , p3 , tau1 , tau2 = p\n",
    "    return ( p0 + p1 * a(t,tau1) + p2 * b(t,tau1) + p3 * b(t,tau2) )\n",
    "\n",
    "def ns_error(p,t,r_t):\n",
    "    diff = r_t - nelson_siegel(p,t)\n",
    "    return np.sum( np.power( diff , 2 ) )\n",
    "\n",
    "def sv_error(p,t,r_t):\n",
    "    diff = r_t - svensson(p,t)\n",
    "    return np.sum( np.power(  diff  , 2 ) )"
   ]
  },
  {
   "cell_type": "code",
   "execution_count": 35,
   "metadata": {
    "ExecuteTime": {
     "end_time": "2020-04-09T15:40:54.925067Z",
     "start_time": "2020-04-09T15:40:54.912146Z"
    }
   },
   "outputs": [],
   "source": [
    "df = pd.read_excel('data.xlsx')\n",
    "t , r_t = df.t , df.r_t/100 "
   ]
  },
  {
   "cell_type": "code",
   "execution_count": 71,
   "metadata": {
    "ExecuteTime": {
     "end_time": "2020-04-09T15:56:01.414569Z",
     "start_time": "2020-04-09T15:55:59.394513Z"
    }
   },
   "outputs": [
    {
     "data": {
      "text/plain": [
       "array([ 0.03037783, -0.01772277,  0.01719611,  9.99998099])"
      ]
     },
     "execution_count": 71,
     "metadata": {},
     "output_type": "execute_result"
    }
   ],
   "source": [
    "ns_p = [0.02,-0.02,0.01,10.0]\n",
    "pa = lm.least_squares(ns_error,ns_p,args=(t,r_t)).x\n",
    "pa"
   ]
  },
  {
   "cell_type": "code",
   "execution_count": 74,
   "metadata": {
    "ExecuteTime": {
     "end_time": "2020-04-09T15:57:14.641427Z",
     "start_time": "2020-04-09T15:57:14.482893Z"
    }
   },
   "outputs": [
    {
     "data": {
      "text/plain": [
       "<matplotlib.legend.Legend at 0x2b243a096c8>"
      ]
     },
     "execution_count": 74,
     "metadata": {},
     "output_type": "execute_result"
    },
    {
     "data": {
      "image/png": "[encoded data removed]",
      "text/plain": [
       "<Figure size 432x288 with 1 Axes>"
      ]
     },
     "metadata": {},
     "output_type": "display_data"
    }
   ],
   "source": [
    "pt.plot(r_t,'+',label = 'r(t)')\n",
    "pt.plot(nelson_siegel(pa,t),'x',label = 'ns')\n",
    "pt.legend()"
   ]
  },
  {
   "cell_type": "code",
   "execution_count": 76,
   "metadata": {
    "ExecuteTime": {
     "end_time": "2020-04-09T15:57:48.983303Z",
     "start_time": "2020-04-09T15:57:47.964572Z"
    }
   },
   "outputs": [
    {
     "data": {
      "text/plain": [
       "array([ 0.02477174, -0.01306467, -0.00576757,  0.00423239,  1.99997626,\n",
       "        2.00000072])"
      ]
     },
     "execution_count": 76,
     "metadata": {},
     "output_type": "execute_result"
    }
   ],
   "source": [
    "sv_p = [0.02,-0.01,-0.01,0.0,2,2]\n",
    "pa = lm.least_squares(sv_error,sv_p,args=(t,r_t)).x\n",
    "pa"
   ]
  },
  {
   "cell_type": "code",
   "execution_count": 77,
   "metadata": {
    "ExecuteTime": {
     "end_time": "2020-04-09T15:57:49.167299Z",
     "start_time": "2020-04-09T15:57:49.005707Z"
    },
    "scrolled": true
   },
   "outputs": [
    {
     "data": {
      "text/plain": [
       "<matplotlib.legend.Legend at 0x2b243b00c08>"
      ]
     },
     "execution_count": 77,
     "metadata": {},
     "output_type": "execute_result"
    },
    {
     "data": {
      "image/png": "[encoded data removed]",
      "text/plain": [
       "<Figure size 432x288 with 1 Axes>"
      ]
     },
     "metadata": {},
     "output_type": "display_data"
    }
   ],
   "source": [
    "pt.plot(r_t,'+',label = 'r(t)')\n",
    "pt.plot(svensson(pa,t),'x',label = 'svesson')\n",
    "pt.legend()"
   ]
  },
  {
   "cell_type": "code",
   "execution_count": null,
   "metadata": {},
   "outputs": [],
   "source": [
    "# 可以知道從r(t)著手 , 是一件很錯誤的開始 .\n",
    "# 所以用 p(t) 估計 parameters"
   ]
  },
  {
   "cell_type": "code",
   "execution_count": null,
   "metadata": {},
   "outputs": [],
   "source": []
  }
 ],
 "metadata": {
  "hide_input": false,
  "kernelspec": {
   "display_name": "Python 3",
   "language": "python",
   "name": "python3"
  },
  "language_info": {
   "codemirror_mode": {
    "name": "ipython",
    "version": 3
   },
   "file_extension": ".py",
   "mimetype": "text/x-python",
   "name": "python",
   "nbconvert_exporter": "python",
   "pygments_lexer": "ipython3",
   "version": "3.7.4"
  },
  "toc": {
   "base_numbering": 1,
   "nav_menu": {},
   "number_sections": true,
   "sideBar": true,
   "skip_h1_title": false,
   "title_cell": "Table of Contents",
   "title_sidebar": "Contents",
   "toc_cell": false,
   "toc_position": {},
   "toc_section_display": true,
   "toc_window_display": false
  },
  "varInspector": {
   "cols": {
    "lenName": 16,
    "lenType": 16,
    "lenVar": 40
   },
   "kernels_config": {
    "python": {
     "delete_cmd_postfix": "",
     "delete_cmd_prefix": "del ",
     "library": "var_list.py",
     "varRefreshCmd": "print(var_dic_list())"
    },
    "r": {
     "delete_cmd_postfix": ") ",
     "delete_cmd_prefix": "rm(",
     "library": "var_list.r",
     "varRefreshCmd": "cat(var_dic_list()) "
    }
   },
   "types_to_exclude": [
    "module",
    "function",
    "builtin_function_or_method",
    "instance",
    "_Feature"
   ],
   "window_display": false
  }
 },
 "nbformat": 4,
 "nbformat_minor": 2
}
