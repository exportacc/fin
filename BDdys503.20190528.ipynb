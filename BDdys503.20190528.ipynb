{
 "cells": [
  {
   "cell_type": "code",
   "execution_count": 18,
   "metadata": {
    "ExecuteTime": {
     "end_time": "2019-10-13T13:48:34.331723Z",
     "start_time": "2019-10-13T13:48:33.462804Z"
    }
   },
   "outputs": [
    {
     "data": {
      "text/plain": [
       "'\\n使用 BDdys503.20190528.csv 進行模型建構 Svesson model \\nwhen : 2019-08-10 \\nwhat : svesson model , least square and etc\\nwhere : \\nwho : Dr.ctlin , Boon hong\\nwhy : \\nhow : python\\n\\ncsv 資料内容説明\\n報表說明：\\t\\t\\t\\t\\t\\t\\t\\n1.存續期間以理論價格為計算基礎\\t\\t\\t\\t\\t\\t\\t\\n2.報價所提供之價格，為等殖成交系統中之收盤最佳公開報價\\t\\t\\t\\t\\t\\t\\t\\n3.成交價為等殖成交系統公開報價成交之成交量加權平均\\t\\t\\t\\t\\t\\t\\t\\n4.理論價以本中心計算之零息殖利率曲線(Steeley Cubic B-Spline Model)，推算出之理論價格\\t\\t\\t\\t\\t\\t\\t\\n\\n'"
      ]
     },
     "execution_count": 18,
     "metadata": {},
     "output_type": "execute_result"
    }
   ],
   "source": [
    "'''\n",
    "使用 BDdys503.20190528.csv 進行模型建構 Svesson model \n",
    "when : 2019-08-10 \n",
    "what : svesson model , least square and etc\n",
    "where : \n",
    "who : Dr.ctlin , Boon hong\n",
    "why : \n",
    "how : python\n",
    "\n",
    "csv 資料内容説明\n",
    "報表說明：\t\t\t\t\t\t\t\n",
    "1.存續期間以理論價格為計算基礎\t\t\t\t\t\t\t\n",
    "2.報價所提供之價格，為等殖成交系統中之收盤最佳公開報價\t\t\t\t\t\t\t\n",
    "3.成交價為等殖成交系統公開報價成交之成交量加權平均\t\t\t\t\t\t\t\n",
    "4.理論價以本中心計算之零息殖利率曲線(Steeley Cubic B-Spline Model)，推算出之理論價格\t\t\t\t\t\t\t\n",
    "\n",
    "'''"
   ]
  },
  {
   "cell_type": "code",
   "execution_count": 144,
   "metadata": {
    "ExecuteTime": {
     "end_time": "2019-10-13T15:12:11.264864Z",
     "start_time": "2019-10-13T15:12:11.255915Z"
    }
   },
   "outputs": [],
   "source": [
    "import pandas as pd\n",
    "import numpy as np\n",
    "import math as m\n",
    "import QuantLib as ql\n",
    "import matplotlib.pyplot as pt \n",
    "from matplotlib import style\n",
    "style.use('ggplot')\n",
    "from pylab import rcParams\n",
    "rcParams['figure.figsize'] = 20, 5"
   ]
  },
  {
   "cell_type": "code",
   "execution_count": 120,
   "metadata": {
    "ExecuteTime": {
     "end_time": "2019-10-13T14:54:22.460687Z",
     "start_time": "2019-10-13T14:54:22.373467Z"
    }
   },
   "outputs": [],
   "source": [
    "df = pd.read_csv('data/BDdys503.20190528.csv')"
   ]
  },
  {
   "cell_type": "code",
   "execution_count": 121,
   "metadata": {
    "ExecuteTime": {
     "end_time": "2019-10-13T14:54:25.107766Z",
     "start_time": "2019-10-13T14:54:24.947217Z"
    }
   },
   "outputs": [
    {
     "name": "stdout",
     "output_type": "stream",
     "text": [
      "         bc       bn         md   ttm  duration   cr %  m    ty %        tn\n",
      "28   A03109  103央債甲9  108/06/27  0.08      0.08  1.125  1  0.4802  100.0491\n",
      "29   A03110  103央甲10  108/07/18  0.13      0.13  1.125  1  0.4777  100.0864\n",
      "63   A06107  106央債甲7  108/07/27  0.16      0.16  0.500  1  0.4774  100.0034\n",
      "110  A98106   98央債甲6  108/09/09  0.28      0.28  1.375  1  0.4775  100.2494\n",
      "34   A03115  103央甲15  108/10/15  0.38      0.38  1.250  1  0.4785  100.2900\n"
     ]
    },
    {
     "name": "stderr",
     "output_type": "stream",
     "text": [
      "C:\\Users\\HP T\\Anaconda3\\lib\\site-packages\\ipykernel_launcher.py:29: SettingWithCopyWarning: \n",
      "A value is trying to be set on a copy of a slice from a DataFrame\n",
      "\n",
      "See the caveats in the documentation: http://pandas.pydata.org/pandas-docs/stable/user_guide/indexing.html#returning-a-view-versus-a-copy\n",
      "C:\\Users\\HP T\\Anaconda3\\lib\\site-packages\\ipykernel_launcher.py:34: SettingWithCopyWarning: \n",
      "A value is trying to be set on a copy of a slice from a DataFrame\n",
      "\n",
      "See the caveats in the documentation: http://pandas.pydata.org/pandas-docs/stable/user_guide/indexing.html#returning-a-view-versus-a-copy\n"
     ]
    },
    {
     "data": {
      "text/plain": [
       "\"\\nzr : zero rate , unit = %\\nzero rate bond price : custom count bond price , function is lambda y , t : 100 * m.exp(-y*t) \\nconclusion , tn isn't zero rete bond , the bond is over price , so zero rate bond price is under face value now .. \\n\""
      ]
     },
     "execution_count": 121,
     "metadata": {},
     "output_type": "execute_result"
    }
   ],
   "source": [
    "''' variable explanation\n",
    "bc : bond code\n",
    "bn : bond name\n",
    "md : maturity time\n",
    "ttm : time to maturity\n",
    "duration : duration\n",
    "cr % : coupon rate  , unit = % \n",
    "m : coupon frequency\n",
    "ty % : theoretical yield , unit = % \n",
    "tn : theoretical bond price\n",
    "'''\n",
    "df = df[['bc','bn','md','ttm','duration','cr %','m','ty %','tn']]\n",
    "df = df.sort_values('ttm')\n",
    "df['m'] = 1\n",
    "print(df.head())\n",
    "\n",
    "for i in np.arange(df['md'].shape[0]):\n",
    "    ''' 程式流程\n",
    "    m 為日期 以 / 作爲分割 \n",
    "    0 year example :102 + 1911 = 等於西元日期\n",
    "    1 month example : 06 取整數 6   \n",
    "    2 day example : 15 取 整數\n",
    "    '''\n",
    "    m = str(df['md'][i]).split('/')\n",
    "    year = int(float(m[0]) + 1911)\n",
    "    month = int(m[1])\n",
    "    day = int(m[2])\n",
    "    date = ql.Date(day,month,year)\n",
    "    df['md'][i] = \"%d-%d-%d\"%(date.dayOfMonth(),date.month(),date.year())\n",
    "\n",
    "    df['zero rate bond price'] = np.zeros(df.shape[0])\n",
    "\n",
    "for i in range(df.shape[0]):\n",
    "    df['zero rate bond price'][i] = f(df['ty %'][i]/100,df['duration'][i])\n",
    "'''\n",
    "zr : zero rate , unit = %\n",
    "zero rate bond price : custom count bond price , function is lambda y , t : 100 * m.exp(-y*t) \n",
    "conclusion , tn isn't zero rete bond , the bond is over price , so zero rate bond price is under face value now .. \n",
    "'''"
   ]
  },
  {
   "cell_type": "code",
   "execution_count": 127,
   "metadata": {
    "ExecuteTime": {
     "end_time": "2019-10-13T14:58:26.414208Z",
     "start_time": "2019-10-13T14:58:26.398279Z"
    }
   },
   "outputs": [
    {
     "name": "stdout",
     "output_type": "stream",
     "text": [
      "         bc       bn          md   ttm  duration   cr %    m    ty %  \\\n",
      "28   A03109  103央債甲9   27-6-2019  0.08      0.08  1.125  0.0  0.4802   \n",
      "29   A03110  103央甲10   18-7-2019  0.13      0.13  1.125  0.0  0.4777   \n",
      "63   A06107  106央債甲7   27-7-2019  0.16      0.16  0.500  0.0  0.4774   \n",
      "110  A98106   98央債甲6    9-9-2019  0.28      0.28  1.375  0.0  0.4775   \n",
      "34   A03115  103央甲15  15-10-2019  0.38      0.38  1.250  0.0  0.4785   \n",
      "\n",
      "           tn  zero rate bond price  \n",
      "28   100.0491             99.962066  \n",
      "29   100.0864             99.938685  \n",
      "63   100.0034             99.924589  \n",
      "110  100.2494             99.868040  \n",
      "34   100.2900             99.820580  \n"
     ]
    }
   ],
   "source": [
    "print(df.head())"
   ]
  },
  {
   "cell_type": "code",
   "execution_count": 126,
   "metadata": {
    "ExecuteTime": {
     "end_time": "2019-10-13T14:58:19.707816Z",
     "start_time": "2019-10-13T14:58:19.700832Z"
    }
   },
   "outputs": [],
   "source": [
    "df['m'] = np.trunc(df['ttm'])"
   ]
  },
  {
   "cell_type": "code",
   "execution_count": 131,
   "metadata": {
    "ExecuteTime": {
     "end_time": "2019-10-13T15:06:50.481743Z",
     "start_time": "2019-10-13T15:06:50.473765Z"
    }
   },
   "outputs": [],
   "source": [
    "r = lambda duration , face , bondprice : -(1/duration) * np.log(bondprice/face) * 100\n",
    "df['zera rate %']= r(df['duration'],100.0,df['zero rate bond price'])"
   ]
  },
  {
   "cell_type": "code",
   "execution_count": 132,
   "metadata": {
    "ExecuteTime": {
     "end_time": "2019-10-13T15:06:51.743541Z",
     "start_time": "2019-10-13T15:06:51.726587Z"
    }
   },
   "outputs": [
    {
     "name": "stdout",
     "output_type": "stream",
     "text": [
      "         bc       bn          md   ttm  duration   cr %    m    ty %  \\\n",
      "28   A03109  103央債甲9   27-6-2019  0.08      0.08  1.125  0.0  0.4802   \n",
      "29   A03110  103央甲10   18-7-2019  0.13      0.13  1.125  0.0  0.4777   \n",
      "63   A06107  106央債甲7   27-7-2019  0.16      0.16  0.500  0.0  0.4774   \n",
      "110  A98106   98央債甲6    9-9-2019  0.28      0.28  1.375  0.0  0.4775   \n",
      "34   A03115  103央甲15  15-10-2019  0.38      0.38  1.250  0.0  0.4785   \n",
      "\n",
      "           tn  zero rate bond price  zera rate  zera rate %  \n",
      "28   100.0491             99.962066   0.004743     0.474259  \n",
      "29   100.0864             99.938685   0.004718     0.471796  \n",
      "63   100.0034             99.924589   0.004715     0.471500  \n",
      "110  100.2494             99.868040   0.004716     0.471597  \n",
      "34   100.2900             99.820580   0.004726     0.472581  \n"
     ]
    }
   ],
   "source": [
    "print(df.head())"
   ]
  },
  {
   "cell_type": "code",
   "execution_count": 146,
   "metadata": {
    "ExecuteTime": {
     "end_time": "2019-10-13T15:12:50.402162Z",
     "start_time": "2019-10-13T15:12:50.088965Z"
    }
   },
   "outputs": [
    {
     "data": {
      "text/plain": [
       "<matplotlib.legend.Legend at 0x2e8c5dd0dd8>"
      ]
     },
     "execution_count": 146,
     "metadata": {},
     "output_type": "execute_result"
    },
    {
     "data": {
      "image/png": "[encoded data removed]",
      "text/plain": [
       "<Figure size 1440x360 with 1 Axes>"
      ]
     },
     "metadata": {},
     "output_type": "display_data"
    }
   ],
   "source": [
    "rcParams['figure.figsize'] = 20, 5\n",
    "pt.plot(df.duration,df['zera rate %'],'r+',label = 'zero rate %')\n",
    "pt.plot(df.duration,df['ty %'],'b+',label = 'theoretical yield %')\n",
    "pt.xlabel('duration')\n",
    "pt.ylabel('rate %')\n",
    "pt.legend(loc= 'lower right')"
   ]
  },
  {
   "cell_type": "code",
   "execution_count": 149,
   "metadata": {
    "ExecuteTime": {
     "end_time": "2019-10-13T15:19:37.021269Z",
     "start_time": "2019-10-13T15:19:37.015285Z"
    }
   },
   "outputs": [],
   "source": [
    "t = np.array(df['duration'])\n",
    "y = np.array(df['zera rate %'])"
   ]
  },
  {
   "cell_type": "code",
   "execution_count": 184,
   "metadata": {
    "ExecuteTime": {
     "end_time": "2019-10-13T16:26:32.812178Z",
     "start_time": "2019-10-13T16:26:31.871725Z"
    }
   },
   "outputs": [
    {
     "name": "stdout",
     "output_type": "stream",
     "text": [
      "`xtol` termination condition is satisfied.\n",
      "Function evaluations 16, initial cost 3.1454e+01, final cost 3.1454e+01, first-order optimality 8.28e+01.\n",
      "參數 b0 , linear least sq 估計 -9.439398277563665 , non linear least sq 0.02 \n",
      "參數 b1 , linear least sq 估計 9.965068299739979 , non linear least sq -0.01 \n",
      "參數 b2 , linear least sq 估計 -121.33623975115324 , non linear least sq -0.01 \n",
      "參數 b3 , linear least sq 估計 -0.2687576704040104 , non linear least sq 0.0 \n",
      "參數 tau1 , linear least sq 估計 -2727.4763769364718 , non linear least sq 2.0 \n",
      "參數 tau2 , linear least sq 估計 0.7287337317984145 , non linear least sq 2.0 \n"
     ]
    }
   ],
   "source": [
    "'''\n",
    "linear least square\n",
    "'''\n",
    "# print(yi)\n",
    "\n",
    "from scipy.optimize import leastsq\n",
    "from scipy.optimize import fmin_cg\n",
    "from scipy.optimize import least_squares\n",
    "\n",
    "def svensson_exp_tau(tau,t):  \n",
    "    return ( 1 - np.exp( -(t / tau) ) ) / ( t / tau)\n",
    "\n",
    "def n_svensson_model(params, t):\n",
    "    b0,b1,b2,b3,tau1,tau2 = params \n",
    "    svensson = b0 +\\\n",
    "    b1 * svensson_exp_tau(tau1,t) +\\\n",
    "    b2 *( svensson_exp_tau(tau1,t) - np.exp( -(t/tau1) ) ) +\\\n",
    "    b3 *( svensson_exp_tau(tau2,t) - np.exp(-(t/tau2)) )\n",
    "    return svensson\n",
    "\n",
    "def error(params , t , y):\n",
    "    return y - n_svensson_model(params,t)\n",
    "\n",
    "def jac(params, t, yi):\n",
    "    J = np.empty((t.size, params.size))\n",
    "    J[:, 0] = 1.0\n",
    "    J[:, 1] = svensson_exp_tau(params[4],t)\n",
    "    J[:, 2] = svensson_exp_tau(params[4],t) - np.exp( -(t/params[4]) )\n",
    "    J[:, 3] = svensson_exp_tau(params[5],t) - np.exp( -(t/params[5]) )\n",
    "    J[:, 4] = (params[1]/t) * (1 - ( np.exp(-t/params[4]) + np.exp(-t/params[4]) * t / params[4] ) ) + params[2] *  ( ( 1- np.exp(-t/params[4]) )/t - np.exp(-t/params[4]) * (1/params[4] + t/(params[4] **2 )) )\n",
    "    J[:, 5] = params[3] *  ( ( 1- np.exp(-t/params[5]) )/t - np.exp(-t/params[5]) * (1/params[5] + t/(params[5] **2 )) )\n",
    "    return J\n",
    "\n",
    "po = np.array([0.02, -0.01, -0.01, 0, 2 , 2])\n",
    "\n",
    "params = leastsq(error , po , args=(t,y))\n",
    "res = least_squares(error, po, jac=jac , args=(t, y), verbose=1)\n",
    "# res2 = fmin_cg(error, po, fprime=jac, args=(t,y))\n",
    "# res2 = minimize(error, po ,jac=jac, args=(t,y) ,method='CG')\n",
    "\n",
    "params = params[0]\n",
    "\n",
    "'''\n",
    "show parameter\n",
    "'''\n",
    "par = \"b0,b1,b2,b3,tau1,tau2\".split(',')\n",
    "for i in range(po.size) :\n",
    "    print('參數 %s , linear least sq 估計 %s , non linear least sq %s '%(par[i]  , params[i] , res.x[i]  ) )\n",
    "\n",
    "df['svesson model linear least square zero rate %'] = n_svensson_model(params,t)\n",
    "df['svesson model non linear least square zero rate %'] = n_svensson_model(res.x,t)\n",
    "# df['svesson model non linear cg zero rate %'] = n_svensson_model(res2.x,t)"
   ]
  },
  {
   "cell_type": "code",
   "execution_count": 177,
   "metadata": {
    "ExecuteTime": {
     "end_time": "2019-10-13T16:09:18.392517Z",
     "start_time": "2019-10-13T16:08:26.863120Z"
    }
   },
   "outputs": [
    {
     "data": {
      "image/png": "[encoded data removed]",
      "text/plain": [
       "<Figure size 1440x360 with 1 Axes>"
      ]
     },
     "metadata": {},
     "output_type": "display_data"
    }
   ],
   "source": [
    "rcParams['figure.figsize'] = 20, 5\n",
    "pt.plot(df.duration,df['zera rate %'],'r+',label = 'zero rate %')\n",
    "pt.plot(df.duration,df['ty %'],'b+',label = 'theoretical yield %')\n",
    "pt.plot(df.duration,df['svesson model linear least square zero rate %'],'y+',label = 'linear least square svensson zero rate %')\n",
    "pt.plot(df.duration,df['svesson model non linear least square zero rate %'],'g+',label = 'non-linear least square svensson zero rate %')\n",
    "pt.xlabel('duration')\n",
    "pt.ylabel('rate %')\n",
    "pt.legend(loc= 'lower right')\n",
    "pt.show()"
   ]
  },
  {
   "cell_type": "code",
   "execution_count": 119,
   "metadata": {
    "ExecuteTime": {
     "end_time": "2019-10-13T14:41:00.292762Z",
     "start_time": "2019-10-13T14:41:00.285783Z"
    }
   },
   "outputs": [
    {
     "data": {
      "text/plain": [
       "100.0"
      ]
     },
     "execution_count": 119,
     "metadata": {},
     "output_type": "execute_result"
    }
   ],
   "source": [
    "'''\n",
    "驗證  c = y , p = f \n",
    "'''\n",
    "\n",
    "bp = lambda c , y , n ,f : (c*f/y) * (1 - ((1+y)**n) ) + f / (1+y)**n \n",
    "''' 變數解釋\n",
    "c : coupon rate \n",
    "y : yield rate \n",
    "n : time to maturity\n",
    "f : face value \n",
    "'''\n",
    "bp(0.08,0.02,0,100.0)\n",
    "\n",
    "bondp = lambda c , f, y , m , d , d1 : (c*f/y) * (1 - ((1+y)**n) ) + f / (1+y)**n\n",
    "''' 變數解釋\n",
    "m : frequency \n",
    "d :  前次與下次付息日實際天數\n",
    "d1 : 交割日到下次付息日實際天數\n",
    "'''"
   ]
  },
  {
   "cell_type": "code",
   "execution_count": 111,
   "metadata": {
    "ExecuteTime": {
     "end_time": "2019-10-13T14:32:31.531088Z",
     "start_time": "2019-10-13T14:32:31.522112Z"
    }
   },
   "outputs": [
    {
     "data": {
      "text/plain": [
       "10.12712319371596"
      ]
     },
     "execution_count": 111,
     "metadata": {},
     "output_type": "execute_result"
    }
   ],
   "source": [
    "import math as m\n",
    "f = lambda bp , t : -(1/t) * (m.log(bp/100.0)) * 100\n",
    "\n",
    "''' variable explanation \n",
    "bp : bond price\n",
    "t : duration (if i using duration , that means the bond does't has coupon)\n",
    "'''\n",
    "f(97.5,0.25)\n",
    "f = lambda y , t : 100 * m.exp(-y*t)\n",
    "f(0.101271 , 0.25)\n",
    "\n",
    "f"
   ]
  },
  {
   "cell_type": "code",
   "execution_count": 24,
   "metadata": {
    "ExecuteTime": {
     "end_time": "2019-10-13T13:48:40.816599Z",
     "start_time": "2019-10-13T13:48:40.692050Z"
    }
   },
   "outputs": [
    {
     "name": "stdout",
     "output_type": "stream",
     "text": [
      "         bc       bn         md   ttm  duration   cr %  m    ty %        tn  \\\n",
      "28   A03109  103央債甲9  108/06/27  0.08      0.08  1.125  1  0.4802  100.0491   \n",
      "29   A03110  103央甲10  108/07/18  0.13      0.13  1.125  1  0.4777  100.0864   \n",
      "63   A06107  106央債甲7  108/07/27  0.16      0.16  0.500  1  0.4774  100.0034   \n",
      "110  A98106   98央債甲6  108/09/09  0.28      0.28  1.375  1  0.4775  100.2494   \n",
      "34   A03115  103央甲15  108/10/15  0.38      0.38  1.250  1  0.4785  100.2900   \n",
      "\n",
      "     zero rate bond price  \n",
      "28              99.961591  \n",
      "29              99.937918  \n",
      "63              99.923645  \n",
      "110             99.866389  \n",
      "34              99.818335  \n"
     ]
    }
   ],
   "source": [
    "print(df.head())"
   ]
  },
  {
   "cell_type": "code",
   "execution_count": 31,
   "metadata": {
    "ExecuteTime": {
     "end_time": "2019-10-13T13:56:08.914559Z",
     "start_time": "2019-10-13T13:56:08.903591Z"
    }
   },
   "outputs": [
    {
     "name": "stdout",
     "output_type": "stream",
     "text": [
      "      ttm  duration   cr %  m    ty %        tn  zero rate bond price\n",
      "62  27.99     22.41  1.875  1  1.0412  120.1531             79.188989\n",
      "67  28.49     23.04  1.625  1  1.0459  114.2019             78.586099\n",
      "71  28.97     23.77  1.500  1  1.0482  111.2362             77.945748\n",
      "77  29.45     24.22  1.375  1  1.0501  108.1912             77.543259\n",
      "84  29.97     25.37  1.125  1  1.0533  101.8328             76.550295\n"
     ]
    }
   ],
   "source": [
    "print(df.tail())"
   ]
  },
  {
   "cell_type": "code",
   "execution_count": 186,
   "metadata": {
    "ExecuteTime": {
     "end_time": "2019-10-13T16:45:29.601800Z",
     "start_time": "2019-10-13T16:45:28.826946Z"
    }
   },
   "outputs": [
    {
     "name": "stdout",
     "output_type": "stream",
     "text": [
      "      ttm  duration   cr %    m    ty %        tn  zero rate bond price  \\\n",
      "28   0.08      0.08  1.125  0.0  0.4802  100.0491             99.962066   \n",
      "29   0.13      0.13  1.125  0.0  0.4777  100.0864             99.938685   \n",
      "63   0.16      0.16  0.500  0.0  0.4774  100.0034             99.924589   \n",
      "110  0.28      0.28  1.375  0.0  0.4775  100.2494             99.868040   \n",
      "34   0.38      0.38  1.250  0.0  0.4785  100.2900             99.820580   \n",
      "\n",
      "     zera rate  zera rate %  svesson model zero rate %  \\\n",
      "28    0.004743     0.474259                   0.513880   \n",
      "29    0.004718     0.471796                   0.507496   \n",
      "63    0.004715     0.471500                   0.504000   \n",
      "110   0.004716     0.471597                   0.492279   \n",
      "34    0.004726     0.472581                   0.484938   \n",
      "\n",
      "     svesson model linear least square zero rate %  \\\n",
      "28                                        0.513880   \n",
      "29                                        0.507496   \n",
      "63                                        0.504000   \n",
      "110                                       0.492279   \n",
      "34                                        0.484938   \n",
      "\n",
      "     svesson model non linear least square zero rate %  \n",
      "28                                            0.010003  \n",
      "29                                            0.010007  \n",
      "63                                            0.010010  \n",
      "110                                           0.010030  \n",
      "34                                            0.010055  \n"
     ]
    }
   ],
   "source": [
    "'''\n",
    "testing pca  \n",
    "'''\n",
    "df = df.drop(['bc','bn','md'],axis=1)\n",
    "print(df.head())"
   ]
  },
  {
   "cell_type": "code",
   "execution_count": 187,
   "metadata": {
    "ExecuteTime": {
     "end_time": "2019-10-13T16:45:31.583763Z",
     "start_time": "2019-10-13T16:45:30.738077Z"
    }
   },
   "outputs": [
    {
     "name": "stdout",
     "output_type": "stream",
     "text": [
      "[[1.         0.99999981 0.99998854 ... 0.92679312 0.92410626 0.92077495]\n",
      " [0.99999981 1.         0.99998907 ... 0.92698292 0.92429653 0.92096713]\n",
      " [0.99998854 0.99998907 1.         ... 0.92729058 0.92462983 0.92134707]\n",
      " ...\n",
      " [0.92679312 0.92698292 0.92729058 ... 1.         0.99981201 0.99859787]\n",
      " [0.92410626 0.92429653 0.92462983 ... 0.99981201 1.         0.99940039]\n",
      " [0.92077495 0.92096713 0.92134707 ... 0.99859787 0.99940039 1.        ]]\n"
     ]
    },
    {
     "data": {
      "text/plain": [
       "'scaler '"
      ]
     },
     "execution_count": 187,
     "metadata": {},
     "output_type": "execute_result"
    }
   ],
   "source": [
    "factor_cor = np.corrcoef(df)\n",
    "print(factor_cor)\n",
    "\n",
    "from sklearn.preprocessing import StandardScaler\n",
    "factors = StandardScaler().fit_transform(factor_cor)\n",
    "# '''scaler '''"
   ]
  },
  {
   "cell_type": "code",
   "execution_count": 188,
   "metadata": {
    "ExecuteTime": {
     "end_time": "2019-10-13T16:45:33.422302Z",
     "start_time": "2019-10-13T16:45:32.716065Z"
    }
   },
   "outputs": [
    {
     "name": "stdout",
     "output_type": "stream",
     "text": [
      "i = 1   proportion >>  [0.71975833] \n",
      "Cumulative Proportion >> 0.7197583251462661 \n",
      "\n",
      "i = 2   proportion >>  [0.71975833 0.27492505] \n",
      "Cumulative Proportion >> 0.99468337463431 \n",
      "\n",
      "i = 3   proportion >>  [0.71975833 0.27492505 0.00531295] \n",
      "Cumulative Proportion >> 0.9999963269286747 \n",
      "\n",
      "i = 4   proportion >>  [7.19758325e-01 2.74925049e-01 5.31295229e-03 3.49985579e-06] \n",
      "Cumulative Proportion >> 0.9999998267844642 \n",
      "\n",
      "因爲都低於95%所以代表每個因子都重要(對於解釋模型)\n"
     ]
    }
   ],
   "source": [
    "from sklearn.decomposition import PCA as pca\n",
    "\n",
    "for i in range(4):\n",
    "    p = pca(n_components=(i+1))\n",
    "    results  = p.fit_transform(factors)\n",
    "    results.shape\n",
    "    print(\"i = %s   proportion >>  %s \"%((i+1) , (p.explained_variance_ratio_)))\n",
    "    print(\"Cumulative Proportion >> %s \\n\"%str(sum(p.explained_variance_ratio_)) )\n",
    "print('因爲都低於95%所以代表每個因子都重要(對於解釋模型)')"
   ]
  },
  {
   "cell_type": "code",
   "execution_count": 190,
   "metadata": {
    "ExecuteTime": {
     "end_time": "2019-10-13T16:46:31.848592Z",
     "start_time": "2019-10-13T16:46:31.812687Z"
    }
   },
   "outputs": [
    {
     "name": "stdout",
     "output_type": "stream",
     "text": [
      "i = 1   proportion >>  [0.71975833 0.27492505] \n",
      "Cumulative Proportion >> 0.99468337463431 \n",
      "\n",
      "i = 2   proportion >>  [0.71975833 0.27492505] \n",
      "Cumulative Proportion >> 0.99468337463431 \n",
      "\n"
     ]
    }
   ],
   "source": [
    "for i in range(2):\n",
    "    p = pca(n_components=(2))\n",
    "    results  = p.fit_transform(factors)\n",
    "    results.shape\n",
    "    print(\"i = %s   proportion >>  %s \"%((i+1) , (p.explained_variance_ratio_)))\n",
    "    print(\"Cumulative Proportion >> %s \\n\"%str(sum(p.explained_variance_ratio_)) )"
   ]
  },
  {
   "cell_type": "code",
   "execution_count": 191,
   "metadata": {
    "ExecuteTime": {
     "end_time": "2019-10-13T16:47:05.546729Z",
     "start_time": "2019-10-13T16:47:05.538753Z"
    }
   },
   "outputs": [
    {
     "data": {
      "text/plain": [
       "array([0.71975833, 0.27492505])"
      ]
     },
     "execution_count": 191,
     "metadata": {},
     "output_type": "execute_result"
    }
   ],
   "source": [
    "p.explained_variance_ratio_"
   ]
  }
 ],
 "metadata": {
  "hide_input": false,
  "kernelspec": {
   "display_name": "Python 3",
   "language": "python",
   "name": "python3"
  },
  "language_info": {
   "codemirror_mode": {
    "name": "ipython",
    "version": 3
   },
   "file_extension": ".py",
   "mimetype": "text/x-python",
   "name": "python",
   "nbconvert_exporter": "python",
   "pygments_lexer": "ipython3",
   "version": "3.7.3"
  },
  "toc": {
   "base_numbering": 1,
   "nav_menu": {},
   "number_sections": true,
   "sideBar": true,
   "skip_h1_title": false,
   "title_cell": "Table of Contents",
   "title_sidebar": "Contents",
   "toc_cell": false,
   "toc_position": {},
   "toc_section_display": true,
   "toc_window_display": false
  },
  "varInspector": {
   "cols": {
    "lenName": 16,
    "lenType": 16,
    "lenVar": 40
   },
   "kernels_config": {
    "python": {
     "delete_cmd_postfix": "",
     "delete_cmd_prefix": "del ",
     "library": "var_list.py",
     "varRefreshCmd": "print(var_dic_list())"
    },
    "r": {
     "delete_cmd_postfix": ") ",
     "delete_cmd_prefix": "rm(",
     "library": "var_list.r",
     "varRefreshCmd": "cat(var_dic_list()) "
    }
   },
   "types_to_exclude": [
    "module",
    "function",
    "builtin_function_or_method",
    "instance",
    "_Feature"
   ],
   "window_display": false
  }
 },
 "nbformat": 4,
 "nbformat_minor": 2
}
