{
 "cells": [
  {
   "cell_type": "code",
   "execution_count": 1,
   "metadata": {
    "ExecuteTime": {
     "end_time": "2020-04-10T12:14:08.574306Z",
     "start_time": "2020-04-10T12:14:07.360662Z"
    }
   },
   "outputs": [],
   "source": [
    "'''\n",
    "使用 BDdys503.20190528.csv 進行模型建構 Svesson model \n",
    "when : 2019-08-10 \n",
    "what : svesson model , least square and etc\n",
    "where : \n",
    "who : Dr.ctlin , Boon hong\n",
    "why : \n",
    "how : python\n",
    "\n",
    "csv 資料内容説明\n",
    "報表說明：\t\t\t\t\t\t\t\n",
    "1.存續期間以理論價格為計算基礎\t\t\t\t\t\t\t\n",
    "2.報價所提供之價格，為等殖成交系統中之收盤最佳公開報價\t\t\t\t\t\t\t\n",
    "3.成交價為等殖成交系統公開報價成交之成交量加權平均\t\t\t\t\t\t\t\n",
    "4.理論價以本中心計算之零息殖利率曲線(Steeley Cubic B-Spline Model)，推算出之理論價格\t\t\t\t\t\t\t\n",
    "\n",
    "'''\n",
    "import pandas as pd\n",
    "import numpy as np\n",
    "import math as m\n",
    "import matplotlib.pyplot as pt \n",
    "from matplotlib import style\n",
    "style.use('ggplot')\n",
    "from pylab import rcParams\n",
    "rcParams['figure.figsize'] = 20, 5"
   ]
  },
  {
   "cell_type": "code",
   "execution_count": 2,
   "metadata": {
    "ExecuteTime": {
     "end_time": "2020-04-10T12:14:08.667001Z",
     "start_time": "2020-04-10T12:14:08.645923Z"
    }
   },
   "outputs": [],
   "source": [
    "df = pd.read_csv('BDdys503.20190528.csv')"
   ]
  },
  {
   "cell_type": "code",
   "execution_count": 3,
   "metadata": {
    "ExecuteTime": {
     "end_time": "2020-04-10T12:14:08.964528Z",
     "start_time": "2020-04-10T12:14:08.950603Z"
    }
   },
   "outputs": [
    {
     "data": {
      "text/plain": [
       "97.50000565346842"
      ]
     },
     "execution_count": 3,
     "metadata": {},
     "output_type": "execute_result"
    }
   ],
   "source": [
    "f = lambda bp , t : -(1/t) * (np.log(bp/100.0)) * 100\n",
    "\n",
    "''' variable explanation \n",
    "bp : bond price\n",
    "t : duration (if i using duration , that means the bond does't has coupon)\n",
    "'''\n",
    "f(97.5,0.25)\n",
    "f = lambda y , t : 100 * np.exp(-y*t)\n",
    "f(0.101271 , 0.25)"
   ]
  },
  {
   "cell_type": "code",
   "execution_count": 4,
   "metadata": {
    "ExecuteTime": {
     "end_time": "2020-04-10T12:14:09.886090Z",
     "start_time": "2020-04-10T12:14:09.753489Z"
    }
   },
   "outputs": [
    {
     "name": "stdout",
     "output_type": "stream",
     "text": [
      "         bc       bn         md   ttm  duration   cr %  m    ty %        tn\n",
      "28   A03109  103央債甲9  108/06/27  0.08      0.08  1.125  1  0.4802  100.0491\n",
      "29   A03110  103央甲10  108/07/18  0.13      0.13  1.125  1  0.4777  100.0864\n",
      "63   A06107  106央債甲7  108/07/27  0.16      0.16  0.500  1  0.4774  100.0034\n",
      "110  A98106   98央債甲6  108/09/09  0.28      0.28  1.375  1  0.4775  100.2494\n",
      "34   A03115  103央甲15  108/10/15  0.38      0.38  1.250  1  0.4785  100.2900\n"
     ]
    },
    {
     "name": "stderr",
     "output_type": "stream",
     "text": [
      "C:\\Users\\User\\Anaconda3\\lib\\site-packages\\ipykernel_launcher.py:35: SettingWithCopyWarning: \n",
      "A value is trying to be set on a copy of a slice from a DataFrame\n",
      "\n",
      "See the caveats in the documentation: http://pandas.pydata.org/pandas-docs/stable/user_guide/indexing.html#returning-a-view-versus-a-copy\n",
      "C:\\Users\\User\\Anaconda3\\lib\\site-packages\\ipykernel_launcher.py:40: SettingWithCopyWarning: \n",
      "A value is trying to be set on a copy of a slice from a DataFrame\n",
      "\n",
      "See the caveats in the documentation: http://pandas.pydata.org/pandas-docs/stable/user_guide/indexing.html#returning-a-view-versus-a-copy\n"
     ]
    }
   ],
   "source": [
    "''' variable explanation\n",
    "bc : bond code\n",
    "bn : bond name\n",
    "md : maturity time\n",
    "ttm : time to maturity\n",
    "duration : duration\n",
    "cr % : coupon rate  , unit = % \n",
    "m : coupon frequency\n",
    "ty % : theoretical yield , unit = % \n",
    "tn : theoretical bond price\n",
    "'''\n",
    "df = df[['bc','bn','md','ttm','duration','cr %','m','ty %','tn']]\n",
    "df = df.sort_values('ttm')\n",
    "df['m'] = 1\n",
    "print(df.head())\n",
    "\n",
    "'''\n",
    "zr : zero rate , unit = %\n",
    "zero rate bond price : custom count bond price , function is lambda y , t : 100 * m.exp(-y*t) \n",
    "conclusion , tn isn't zero rete bond , the bond is over price , so zero rate bond price is under face value now .. \n",
    "'''\n",
    "\n",
    "for i in np.arange(df['md'].shape[0]):\n",
    "    ''' 程式流程\n",
    "    m 為日期 以 / 作爲分割 \n",
    "    0 year example :102 + 1911 = 等於西元日期\n",
    "    1 month example : 06 取整數 6   \n",
    "    2 day example : 15 取 整數\n",
    "    '''\n",
    "    m = str(df['md'][i]).split('/')\n",
    "    year = int(float(m[0]) + 1911)\n",
    "    month = int(m[1])\n",
    "    day = int(m[2])\n",
    "    date = ql.Date(day,month,year)\n",
    "    df['md'][i] = \"%d-%d-%d\"%(date.dayOfMonth(),date.month(),date.year())\n",
    "\n",
    "    df['zero rate bond price'] = np.zeros(df.shape[0])\n",
    "\n",
    "for i in range(df.shape[0]):\n",
    "    df['zero rate bond price'][i] = f(df['ty %'][i]/100,df['duration'][i])"
   ]
  },
  {
   "cell_type": "code",
   "execution_count": 5,
   "metadata": {
    "ExecuteTime": {
     "end_time": "2020-04-10T12:14:10.685643Z",
     "start_time": "2020-04-10T12:14:10.659713Z"
    }
   },
   "outputs": [
    {
     "name": "stdout",
     "output_type": "stream",
     "text": [
      "         bc       bn          md   ttm  duration   cr %  m    ty %        tn  \\\n",
      "28   A03109  103央債甲9   27-6-2019  0.08      0.08  1.125  1  0.4802  100.0491   \n",
      "29   A03110  103央甲10   18-7-2019  0.13      0.13  1.125  1  0.4777  100.0864   \n",
      "63   A06107  106央債甲7   27-7-2019  0.16      0.16  0.500  1  0.4774  100.0034   \n",
      "110  A98106   98央債甲6    9-9-2019  0.28      0.28  1.375  1  0.4775  100.2494   \n",
      "34   A03115  103央甲15  15-10-2019  0.38      0.38  1.250  1  0.4785  100.2900   \n",
      "\n",
      "     zero rate bond price  \n",
      "28              99.961591  \n",
      "29              99.937918  \n",
      "63              99.923645  \n",
      "110             99.866389  \n",
      "34              99.818335  \n"
     ]
    }
   ],
   "source": [
    "print(df.head())"
   ]
  },
  {
   "cell_type": "code",
   "execution_count": 6,
   "metadata": {
    "ExecuteTime": {
     "end_time": "2020-04-10T12:14:11.774614Z",
     "start_time": "2020-04-10T12:14:11.765394Z"
    }
   },
   "outputs": [],
   "source": [
    "df['m'] = np.trunc(df['ttm'])"
   ]
  },
  {
   "cell_type": "code",
   "execution_count": 7,
   "metadata": {
    "ExecuteTime": {
     "end_time": "2020-04-10T12:14:12.719993Z",
     "start_time": "2020-04-10T12:14:12.685634Z"
    }
   },
   "outputs": [],
   "source": [
    "r = lambda duration , face , bondprice : -(1/duration) * np.log(bondprice/face) * 100\n",
    "df['zera rate %']= r(df['duration'],100.0,df['zero rate bond price'])"
   ]
  },
  {
   "cell_type": "code",
   "execution_count": 8,
   "metadata": {
    "ExecuteTime": {
     "end_time": "2020-04-10T12:14:13.261426Z",
     "start_time": "2020-04-10T12:14:13.234923Z"
    }
   },
   "outputs": [
    {
     "name": "stdout",
     "output_type": "stream",
     "text": [
      "         bc       bn          md   ttm  duration   cr %    m    ty %  \\\n",
      "28   A03109  103央債甲9   27-6-2019  0.08      0.08  1.125  0.0  0.4802   \n",
      "29   A03110  103央甲10   18-7-2019  0.13      0.13  1.125  0.0  0.4777   \n",
      "63   A06107  106央債甲7   27-7-2019  0.16      0.16  0.500  0.0  0.4774   \n",
      "110  A98106   98央債甲6    9-9-2019  0.28      0.28  1.375  0.0  0.4775   \n",
      "34   A03115  103央甲15  15-10-2019  0.38      0.38  1.250  0.0  0.4785   \n",
      "\n",
      "           tn  zero rate bond price  zera rate %  \n",
      "28   100.0491             99.961591       0.4802  \n",
      "29   100.0864             99.937918       0.4777  \n",
      "63   100.0034             99.923645       0.4774  \n",
      "110  100.2494             99.866389       0.4775  \n",
      "34   100.2900             99.818335       0.4785  \n"
     ]
    }
   ],
   "source": [
    "print(df.head())"
   ]
  },
  {
   "cell_type": "code",
   "execution_count": 9,
   "metadata": {
    "ExecuteTime": {
     "end_time": "2020-04-10T12:14:14.786865Z",
     "start_time": "2020-04-10T12:14:14.344750Z"
    }
   },
   "outputs": [
    {
     "data": {
      "text/plain": [
       "<matplotlib.legend.Legend at 0x1ca4ec79688>"
      ]
     },
     "execution_count": 9,
     "metadata": {},
     "output_type": "execute_result"
    },
    {
     "data": {
      "image/png": "[encoded data removed]",
      "text/plain": [
       "<Figure size 1440x360 with 1 Axes>"
      ]
     },
     "metadata": {
      "needs_background": "light"
     },
     "output_type": "display_data"
    }
   ],
   "source": [
    "rcParams['figure.figsize'] = 20, 5\n",
    "pt.plot(df.duration,df['zera rate %'],'rx',label = 'zero rate %')\n",
    "pt.plot(df.duration,df['ty %'],'b+',label = 'theoretical yield %')\n",
    "pt.xlabel('duration')\n",
    "pt.ylabel('rate %')\n",
    "pt.legend(loc= 'lower right')"
   ]
  },
  {
   "cell_type": "code",
   "execution_count": 10,
   "metadata": {
    "ExecuteTime": {
     "end_time": "2020-04-10T12:14:17.679215Z",
     "start_time": "2020-04-10T12:14:17.666447Z"
    }
   },
   "outputs": [],
   "source": [
    "t = np.array(df['duration'])\n",
    "y = np.array(df['zera rate %'])"
   ]
  },
  {
   "cell_type": "code",
   "execution_count": 14,
   "metadata": {
    "ExecuteTime": {
     "end_time": "2020-04-10T12:14:55.182530Z",
     "start_time": "2020-04-10T12:14:55.109976Z"
    }
   },
   "outputs": [
    {
     "name": "stdout",
     "output_type": "stream",
     "text": [
      "`xtol` termination condition is satisfied.\n",
      "Function evaluations 16, initial cost 3.2423e+01, final cost 3.2423e+01, first-order optimality 8.40e+01.\n",
      "parameter b0 , svesson least sq -9.79667499591724 , svesson non-least sq 0.02 \n",
      "parameter b1 , svesson least sq 10.328288216657404 , svesson non-least sq -0.01 \n",
      "parameter b2 , svesson least sq -177.8669513556934 , svesson non-least sq -0.01 \n",
      "parameter b3 , svesson least sq -0.27056578043798946 , svesson non-least sq 0.0 \n",
      "parameter tau1 , svesson least sq -3822.0982296485795 , svesson non-least sq 2.0 \n",
      "parameter tau2 , svesson least sq 0.7361677213675533 , svesson non-least sq 2.0 \n"
     ]
    }
   ],
   "source": [
    "'''\n",
    "linear least square\n",
    "'''\n",
    "# print(yi)\n",
    "\n",
    "from scipy.optimize import leastsq\n",
    "from scipy.optimize import fmin_cg\n",
    "from scipy.optimize import least_squares\n",
    "\n",
    "\n",
    "a = lambda t , tau : (1 - np.exp(-t/tau) )/(t/tau)\n",
    "\n",
    "b = lambda t , tau : (1 - np.exp(-t/tau) )/(t/tau) - np.exp(-t/tau)\n",
    "\n",
    "def nelson_siegel_model(p,t):\n",
    "    p0 , p1 , p2 , tau  =  p\n",
    "    return ( p0 + p1 * a(t,tau) + p2 * b(t,tau) )\n",
    "\n",
    "def svensson_model(p,t):\n",
    "    p0 , p1 , p2 , p3 , tau1 , tau2 = p\n",
    "    return ( p0 + p1 * a(t,tau1) + p2 * b(t,tau1) + p3 * b(t,tau2) )\n",
    "\n",
    "def ns_error(p,t,y):\n",
    "    return y - nelson_siegel_model(p,t)\n",
    "\n",
    "def sv_error(p,t,y):\n",
    "    return y - svensson_model(p,t)\n",
    "\n",
    "\n",
    "''' old code\n",
    "    def svensson_exp_tau(tau,t):  \n",
    "        return ( 1 - np.exp( -(t / tau) ) ) / ( t / tau)\n",
    "\n",
    "    def n_svensson_model(params, t):\n",
    "        b0,b1,b2,b3,tau1,tau2 = params \n",
    "        svensson = b0 +\\\n",
    "        b1 * svensson_exp_tau(tau1,t) +\\\n",
    "        b2 *( svensson_exp_tau(tau1,t) - np.exp( -(t/tau1) ) ) +\\\n",
    "        b3 *( svensson_exp_tau(tau2,t) - np.exp(-(t/tau2)) )\n",
    "        return svensson\n",
    "\n",
    "    def error(params , t , y):\n",
    "        return y - n_svensson_model(params,t)\n",
    "\n",
    "'''\n",
    "\n",
    "\n",
    "def jac(params, t, yi):\n",
    "    J = np.empty((t.size, params.size))\n",
    "    J[:, 0] = 1.0\n",
    "    J[:, 1] = a(params[4],t)\n",
    "    J[:, 2] = a(params[4],t) - np.exp( -(t/params[4]) )\n",
    "    J[:, 3] = a(params[5],t) - np.exp( -(t/params[5]) )\n",
    "    J[:, 4] = (params[1]/t) * (1 - ( np.exp(-t/params[4]) + np.exp(-t/params[4]) * t / params[4] ) ) + params[2] *  ( ( 1- np.exp(-t/params[4]) )/t - np.exp(-t/params[4]) * (1/params[4] + t/(params[4] **2 )) )\n",
    "    J[:, 5] = params[3] *  ( ( 1- np.exp(-t/params[5]) )/t - np.exp(-t/params[5]) * (1/params[5] + t/(params[5] **2 )) )\n",
    "    return J\n",
    "\n",
    "po = np.array([0.02, -0.01, -0.01, 0, 2 , 2])\n",
    "\n",
    "p1 = np.array([0.0,0.0,0.0,0])\n",
    "\n",
    "params = leastsq(sv_error , po , args=(t,y))\n",
    "res = least_squares(sv_error, po, jac=jac , args=(t, y), verbose=1)\n",
    "\n",
    "params = params[0]\n",
    "\n",
    "\n",
    "# params_ns = leastsq(ns_error , p1 , args=(t,y))\n",
    "\n",
    "# params_ns = params_ns[0]\n",
    "\n",
    "'''\n",
    "show parameter\n",
    "'''\n",
    "par = \"b0,b1,b2,b3,tau1,tau2\".split(',')\n",
    "for i in range(po.size) :\n",
    "    print('parameter {} , svesson least sq {} , svesson non-least sq {} '.format(par[i]  , params[i] , res.x[i]) )\n",
    "\n",
    "df['svesson model least sq % (linear)'] = svensson_model(params,t)\n",
    "df['svesson model least sq % (non-linear)'] = svensson_model(res.x,t)\n",
    "# df['svesson model non linear cg zero rate %'] = svensson_model(res2.x,t)"
   ]
  },
  {
   "cell_type": "code",
   "execution_count": 15,
   "metadata": {
    "ExecuteTime": {
     "end_time": "2020-04-10T12:14:59.637574Z",
     "start_time": "2020-04-10T12:14:59.243158Z"
    }
   },
   "outputs": [
    {
     "data": {
      "image/png": "[encoded data removed]",
      "text/plain": [
       "<Figure size 1440x360 with 1 Axes>"
      ]
     },
     "metadata": {
      "needs_background": "light"
     },
     "output_type": "display_data"
    }
   ],
   "source": [
    "rcParams['figure.figsize'] = 20, 5\n",
    "pt.plot(df.duration,df['zera rate %'],'r+',label = 'zero rate %')\n",
    "pt.plot(df.duration,df['ty %'],'b+',label = 'theoretical yield %')\n",
    "pt.plot(df.duration,df['svesson model least sq % (linear)'],'y+',label = 'svensson zero rate %')\n",
    "# pt.plot(df.duration,df['svesson model least sq % (non-linear)'],'g+',label = 'non-linear least square svensson zero rate %')\n",
    "pt.xlabel('duration')\n",
    "pt.ylabel('rate %')\n",
    "pt.legend(loc= 'lower right')\n",
    "pt.show()"
   ]
  },
  {
   "cell_type": "code",
   "execution_count": 16,
   "metadata": {
    "ExecuteTime": {
     "end_time": "2020-04-10T12:15:03.504559Z",
     "start_time": "2020-04-10T12:15:03.488005Z"
    }
   },
   "outputs": [
    {
     "name": "stdout",
     "output_type": "stream",
     "text": [
      "         bc       bn          md   ttm  duration   cr %    m    ty %  \\\n",
      "28   A03109  103央債甲9   27-6-2019  0.08      0.08  1.125  0.0  0.4802   \n",
      "29   A03110  103央甲10   18-7-2019  0.13      0.13  1.125  0.0  0.4777   \n",
      "63   A06107  106央債甲7   27-7-2019  0.16      0.16  0.500  0.0  0.4774   \n",
      "110  A98106   98央債甲6    9-9-2019  0.28      0.28  1.375  0.0  0.4775   \n",
      "34   A03115  103央甲15  15-10-2019  0.38      0.38  1.250  0.0  0.4785   \n",
      "\n",
      "           tn  zero rate bond price  zera rate %  \\\n",
      "28   100.0491             99.961591       0.4802   \n",
      "29   100.0864             99.937918       0.4777   \n",
      "63   100.0034             99.923645       0.4774   \n",
      "110  100.2494             99.866389       0.4775   \n",
      "34   100.2900             99.818335       0.4785   \n",
      "\n",
      "     svesson model least sq % (linear)  svesson model least sq % (non-linear)  \n",
      "28                            0.519904                               0.010003  \n",
      "29                            0.513559                               0.010007  \n",
      "63                            0.510082                               0.010010  \n",
      "110                           0.498413                               0.010030  \n",
      "34                            0.491094                               0.010055  \n"
     ]
    }
   ],
   "source": [
    "print(df.head())"
   ]
  },
  {
   "cell_type": "code",
   "execution_count": 17,
   "metadata": {
    "ExecuteTime": {
     "end_time": "2020-04-10T12:15:13.822849Z",
     "start_time": "2020-04-10T12:15:13.775964Z"
    },
    "scrolled": true
   },
   "outputs": [
    {
     "data": {
      "text/html": [
       "<div>\n",
       "<style scoped>\n",
       "    .dataframe tbody tr th:only-of-type {\n",
       "        vertical-align: middle;\n",
       "    }\n",
       "\n",
       "    .dataframe tbody tr th {\n",
       "        vertical-align: top;\n",
       "    }\n",
       "\n",
       "    .dataframe thead th {\n",
       "        text-align: right;\n",
       "    }\n",
       "</style>\n",
       "<table border=\"1\" class=\"dataframe\">\n",
       "  <thead>\n",
       "    <tr style=\"text-align: right;\">\n",
       "      <th></th>\n",
       "      <th>bc</th>\n",
       "      <th>bn</th>\n",
       "      <th>md</th>\n",
       "      <th>ttm</th>\n",
       "      <th>duration</th>\n",
       "      <th>cr %</th>\n",
       "      <th>m</th>\n",
       "      <th>ty %</th>\n",
       "      <th>tn</th>\n",
       "      <th>zero rate bond price</th>\n",
       "      <th>zera rate %</th>\n",
       "      <th>svesson model least sq % (linear)</th>\n",
       "      <th>svesson model least sq % (non-linear)</th>\n",
       "    </tr>\n",
       "  </thead>\n",
       "  <tbody>\n",
       "    <tr>\n",
       "      <td>28</td>\n",
       "      <td>A03109</td>\n",
       "      <td>103央債甲9</td>\n",
       "      <td>27-6-2019</td>\n",
       "      <td>0.08</td>\n",
       "      <td>0.08</td>\n",
       "      <td>1.125</td>\n",
       "      <td>0.0</td>\n",
       "      <td>0.4802</td>\n",
       "      <td>100.0491</td>\n",
       "      <td>99.961591</td>\n",
       "      <td>0.4802</td>\n",
       "      <td>0.519904</td>\n",
       "      <td>0.010003</td>\n",
       "    </tr>\n",
       "    <tr>\n",
       "      <td>29</td>\n",
       "      <td>A03110</td>\n",
       "      <td>103央甲10</td>\n",
       "      <td>18-7-2019</td>\n",
       "      <td>0.13</td>\n",
       "      <td>0.13</td>\n",
       "      <td>1.125</td>\n",
       "      <td>0.0</td>\n",
       "      <td>0.4777</td>\n",
       "      <td>100.0864</td>\n",
       "      <td>99.937918</td>\n",
       "      <td>0.4777</td>\n",
       "      <td>0.513559</td>\n",
       "      <td>0.010007</td>\n",
       "    </tr>\n",
       "    <tr>\n",
       "      <td>63</td>\n",
       "      <td>A06107</td>\n",
       "      <td>106央債甲7</td>\n",
       "      <td>27-7-2019</td>\n",
       "      <td>0.16</td>\n",
       "      <td>0.16</td>\n",
       "      <td>0.500</td>\n",
       "      <td>0.0</td>\n",
       "      <td>0.4774</td>\n",
       "      <td>100.0034</td>\n",
       "      <td>99.923645</td>\n",
       "      <td>0.4774</td>\n",
       "      <td>0.510082</td>\n",
       "      <td>0.010010</td>\n",
       "    </tr>\n",
       "    <tr>\n",
       "      <td>110</td>\n",
       "      <td>A98106</td>\n",
       "      <td>98央債甲6</td>\n",
       "      <td>9-9-2019</td>\n",
       "      <td>0.28</td>\n",
       "      <td>0.28</td>\n",
       "      <td>1.375</td>\n",
       "      <td>0.0</td>\n",
       "      <td>0.4775</td>\n",
       "      <td>100.2494</td>\n",
       "      <td>99.866389</td>\n",
       "      <td>0.4775</td>\n",
       "      <td>0.498413</td>\n",
       "      <td>0.010030</td>\n",
       "    </tr>\n",
       "    <tr>\n",
       "      <td>34</td>\n",
       "      <td>A03115</td>\n",
       "      <td>103央甲15</td>\n",
       "      <td>15-10-2019</td>\n",
       "      <td>0.38</td>\n",
       "      <td>0.38</td>\n",
       "      <td>1.250</td>\n",
       "      <td>0.0</td>\n",
       "      <td>0.4785</td>\n",
       "      <td>100.2900</td>\n",
       "      <td>99.818335</td>\n",
       "      <td>0.4785</td>\n",
       "      <td>0.491094</td>\n",
       "      <td>0.010055</td>\n",
       "    </tr>\n",
       "    <tr>\n",
       "      <td>...</td>\n",
       "      <td>...</td>\n",
       "      <td>...</td>\n",
       "      <td>...</td>\n",
       "      <td>...</td>\n",
       "      <td>...</td>\n",
       "      <td>...</td>\n",
       "      <td>...</td>\n",
       "      <td>...</td>\n",
       "      <td>...</td>\n",
       "      <td>...</td>\n",
       "      <td>...</td>\n",
       "      <td>...</td>\n",
       "      <td>...</td>\n",
       "    </tr>\n",
       "    <tr>\n",
       "      <td>62</td>\n",
       "      <td>A06106</td>\n",
       "      <td>106央債甲6</td>\n",
       "      <td>26-5-2047</td>\n",
       "      <td>27.99</td>\n",
       "      <td>22.41</td>\n",
       "      <td>1.875</td>\n",
       "      <td>27.0</td>\n",
       "      <td>1.0412</td>\n",
       "      <td>120.1531</td>\n",
       "      <td>79.188989</td>\n",
       "      <td>1.0412</td>\n",
       "      <td>1.076547</td>\n",
       "      <td>0.018215</td>\n",
       "    </tr>\n",
       "    <tr>\n",
       "      <td>67</td>\n",
       "      <td>A06111</td>\n",
       "      <td>106央甲11</td>\n",
       "      <td>24-11-2047</td>\n",
       "      <td>28.49</td>\n",
       "      <td>23.04</td>\n",
       "      <td>1.625</td>\n",
       "      <td>28.0</td>\n",
       "      <td>1.0459</td>\n",
       "      <td>114.2019</td>\n",
       "      <td>78.586099</td>\n",
       "      <td>1.0459</td>\n",
       "      <td>1.092420</td>\n",
       "      <td>0.018264</td>\n",
       "    </tr>\n",
       "    <tr>\n",
       "      <td>71</td>\n",
       "      <td>A07104</td>\n",
       "      <td>107央債甲4</td>\n",
       "      <td>18-5-2048</td>\n",
       "      <td>28.97</td>\n",
       "      <td>23.77</td>\n",
       "      <td>1.500</td>\n",
       "      <td>28.0</td>\n",
       "      <td>1.0482</td>\n",
       "      <td>111.2362</td>\n",
       "      <td>77.945748</td>\n",
       "      <td>1.0482</td>\n",
       "      <td>1.110801</td>\n",
       "      <td>0.018317</td>\n",
       "    </tr>\n",
       "    <tr>\n",
       "      <td>77</td>\n",
       "      <td>A07110</td>\n",
       "      <td>107央甲10</td>\n",
       "      <td>9-11-2048</td>\n",
       "      <td>29.45</td>\n",
       "      <td>24.22</td>\n",
       "      <td>1.375</td>\n",
       "      <td>29.0</td>\n",
       "      <td>1.0501</td>\n",
       "      <td>108.1912</td>\n",
       "      <td>77.543259</td>\n",
       "      <td>1.0501</td>\n",
       "      <td>1.122126</td>\n",
       "      <td>0.018349</td>\n",
       "    </tr>\n",
       "    <tr>\n",
       "      <td>84</td>\n",
       "      <td>A08105</td>\n",
       "      <td>108央債甲5</td>\n",
       "      <td>17-5-2049</td>\n",
       "      <td>29.97</td>\n",
       "      <td>25.37</td>\n",
       "      <td>1.125</td>\n",
       "      <td>29.0</td>\n",
       "      <td>1.0533</td>\n",
       "      <td>101.8328</td>\n",
       "      <td>76.550295</td>\n",
       "      <td>1.0533</td>\n",
       "      <td>1.151050</td>\n",
       "      <td>0.018423</td>\n",
       "    </tr>\n",
       "  </tbody>\n",
       "</table>\n",
       "<p>117 rows × 13 columns</p>\n",
       "</div>"
      ],
      "text/plain": [
       "         bc       bn          md    ttm  duration   cr %     m    ty %  \\\n",
       "28   A03109  103央債甲9   27-6-2019   0.08      0.08  1.125   0.0  0.4802   \n",
       "29   A03110  103央甲10   18-7-2019   0.13      0.13  1.125   0.0  0.4777   \n",
       "63   A06107  106央債甲7   27-7-2019   0.16      0.16  0.500   0.0  0.4774   \n",
       "110  A98106   98央債甲6    9-9-2019   0.28      0.28  1.375   0.0  0.4775   \n",
       "34   A03115  103央甲15  15-10-2019   0.38      0.38  1.250   0.0  0.4785   \n",
       "..      ...      ...         ...    ...       ...    ...   ...     ...   \n",
       "62   A06106  106央債甲6   26-5-2047  27.99     22.41  1.875  27.0  1.0412   \n",
       "67   A06111  106央甲11  24-11-2047  28.49     23.04  1.625  28.0  1.0459   \n",
       "71   A07104  107央債甲4   18-5-2048  28.97     23.77  1.500  28.0  1.0482   \n",
       "77   A07110  107央甲10   9-11-2048  29.45     24.22  1.375  29.0  1.0501   \n",
       "84   A08105  108央債甲5   17-5-2049  29.97     25.37  1.125  29.0  1.0533   \n",
       "\n",
       "           tn  zero rate bond price  zera rate %  \\\n",
       "28   100.0491             99.961591       0.4802   \n",
       "29   100.0864             99.937918       0.4777   \n",
       "63   100.0034             99.923645       0.4774   \n",
       "110  100.2494             99.866389       0.4775   \n",
       "34   100.2900             99.818335       0.4785   \n",
       "..        ...                   ...          ...   \n",
       "62   120.1531             79.188989       1.0412   \n",
       "67   114.2019             78.586099       1.0459   \n",
       "71   111.2362             77.945748       1.0482   \n",
       "77   108.1912             77.543259       1.0501   \n",
       "84   101.8328             76.550295       1.0533   \n",
       "\n",
       "     svesson model least sq % (linear)  svesson model least sq % (non-linear)  \n",
       "28                            0.519904                               0.010003  \n",
       "29                            0.513559                               0.010007  \n",
       "63                            0.510082                               0.010010  \n",
       "110                           0.498413                               0.010030  \n",
       "34                            0.491094                               0.010055  \n",
       "..                                 ...                                    ...  \n",
       "62                            1.076547                               0.018215  \n",
       "67                            1.092420                               0.018264  \n",
       "71                            1.110801                               0.018317  \n",
       "77                            1.122126                               0.018349  \n",
       "84                            1.151050                               0.018423  \n",
       "\n",
       "[117 rows x 13 columns]"
      ]
     },
     "execution_count": 17,
     "metadata": {},
     "output_type": "execute_result"
    }
   ],
   "source": [
    "df"
   ]
  },
  {
   "cell_type": "code",
   "execution_count": 18,
   "metadata": {
    "ExecuteTime": {
     "end_time": "2020-04-10T12:17:29.602221Z",
     "start_time": "2020-04-10T12:17:29.579283Z"
    }
   },
   "outputs": [],
   "source": [
    "# df.to_csv('data_result.csv')"
   ]
  }
 ],
 "metadata": {
  "hide_input": false,
  "kernelspec": {
   "display_name": "Python 3",
   "language": "python",
   "name": "python3"
  },
  "language_info": {
   "codemirror_mode": {
    "name": "ipython",
    "version": 3
   },
   "file_extension": ".py",
   "mimetype": "text/x-python",
   "name": "python",
   "nbconvert_exporter": "python",
   "pygments_lexer": "ipython3",
   "version": "3.7.4"
  },
  "toc": {
   "base_numbering": 1,
   "nav_menu": {},
   "number_sections": true,
   "sideBar": true,
   "skip_h1_title": false,
   "title_cell": "Table of Contents",
   "title_sidebar": "Contents",
   "toc_cell": false,
   "toc_position": {},
   "toc_section_display": true,
   "toc_window_display": false
  },
  "varInspector": {
   "cols": {
    "lenName": 16,
    "lenType": 16,
    "lenVar": 40
   },
   "kernels_config": {
    "python": {
     "delete_cmd_postfix": "",
     "delete_cmd_prefix": "del ",
     "library": "var_list.py",
     "varRefreshCmd": "print(var_dic_list())"
    },
    "r": {
     "delete_cmd_postfix": ") ",
     "delete_cmd_prefix": "rm(",
     "library": "var_list.r",
     "varRefreshCmd": "cat(var_dic_list()) "
    }
   },
   "types_to_exclude": [
    "module",
    "function",
    "builtin_function_or_method",
    "instance",
    "_Feature"
   ],
   "window_display": false
  }
 },
 "nbformat": 4,
 "nbformat_minor": 2
}
